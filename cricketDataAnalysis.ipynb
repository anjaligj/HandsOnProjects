{
  "nbformat": 4,
  "nbformat_minor": 0,
  "metadata": {
    "colab": {
      "provenance": []
    },
    "kernelspec": {
      "name": "python3",
      "display_name": "Python 3"
    },
    "language_info": {
      "name": "python"
    }
  },
  "cells": [
    {
      "cell_type": "code",
      "execution_count": null,
      "metadata": {
        "id": "I0KI0R5jiBas"
      },
      "outputs": [],
      "source": [
        "import pandas as pd\n",
        "import numpy as np\n",
        "import matplotlib.pyplot as plt\n",
        "import seaborn as sns"
      ]
    },
    {
      "cell_type": "code",
      "source": [
        "#Importing data set\n",
        "train=pd.read_csv('train.csv')"
      ],
      "metadata": {
        "id": "bT-NKrwei8Ah"
      },
      "execution_count": null,
      "outputs": []
    },
    {
      "cell_type": "code",
      "source": [
        "#Checking basic details\n",
        "train.shape"
      ],
      "metadata": {
        "colab": {
          "base_uri": "https://localhost:8080/"
        },
        "id": "S4VktYX-jFWe",
        "outputId": "29bdcf64-6e57-4602-ec38-da7fde72fab6"
      },
      "execution_count": null,
      "outputs": [
        {
          "output_type": "execute_result",
          "data": {
            "text/plain": [
              "(13994, 30)"
            ]
          },
          "metadata": {},
          "execution_count": 3
        }
      ]
    },
    {
      "cell_type": "code",
      "source": [
        "train.head()"
      ],
      "metadata": {
        "colab": {
          "base_uri": "https://localhost:8080/",
          "height": 351
        },
        "id": "dmXr1hh9jLRw",
        "outputId": "c7586730-afee-4ada-bb16-559d662747fd"
      },
      "execution_count": null,
      "outputs": [
        {
          "output_type": "execute_result",
          "data": {
            "text/plain": [
              "    player_id                 name  age gender    country height  weight  \\\n",
              "0   PLID_4964           Keva Horan   23      M    Ukraine    6'2  176lbs   \n",
              "1  PLID_11234           Herma Tann   18      M     Russia   5'10  148lbs   \n",
              "2  PLID_19127         Eilene Kizer   16      F      Spain    6'2  172lbs   \n",
              "3  PLID_17467       Andrea Badgett   27      M      Chile   5'11  165lbs   \n",
              "4   PLID_9661  Jeremiah Bumbalough   19      F  Argentina    5'8  158lbs   \n",
              "\n",
              "   ball_controlling_skills  body_reflexes  body_balance  ...  strong_foot  \\\n",
              "0                     77.0           58.0          47.0  ...        Right   \n",
              "1                     54.0           69.0          70.0  ...          Any   \n",
              "2                     34.0           43.0          45.0  ...         Left   \n",
              "3                     79.0           73.0          76.0  ...        Right   \n",
              "4                     47.0           61.0          74.0  ...        Right   \n",
              "\n",
              "   behaviour_rating  matches_played  fitness_rating  trophies_won  \\\n",
              "0               7.7             NaN             8.1           2.0   \n",
              "1               5.3             0.0             NaN           3.0   \n",
              "2               4.7             0.0             6.6           5.0   \n",
              "3               8.6           113.0             8.6           6.0   \n",
              "4               NaN             0.0             5.7           5.0   \n",
              "\n",
              "   dedication_level     coaching  years_of_experience  \\\n",
              "0              High  Talent Hunt                  8.0   \n",
              "1            Medium       Source                  3.0   \n",
              "2               Low      Academy                  2.0   \n",
              "3            Medium      Academy                 13.0   \n",
              "4            Medium      Academy                  4.0   \n",
              "\n",
              "   no_of_disqualifications  selection  \n",
              "0                      0.0          1  \n",
              "1                      0.0          0  \n",
              "2                      0.0          1  \n",
              "3                     16.0          1  \n",
              "4                      0.0          0  \n",
              "\n",
              "[5 rows x 30 columns]"
            ],
            "text/html": [
              "\n",
              "  <div id=\"df-00e2e6e7-8ab3-4aec-ab65-6695da91e58f\">\n",
              "    <div class=\"colab-df-container\">\n",
              "      <div>\n",
              "<style scoped>\n",
              "    .dataframe tbody tr th:only-of-type {\n",
              "        vertical-align: middle;\n",
              "    }\n",
              "\n",
              "    .dataframe tbody tr th {\n",
              "        vertical-align: top;\n",
              "    }\n",
              "\n",
              "    .dataframe thead th {\n",
              "        text-align: right;\n",
              "    }\n",
              "</style>\n",
              "<table border=\"1\" class=\"dataframe\">\n",
              "  <thead>\n",
              "    <tr style=\"text-align: right;\">\n",
              "      <th></th>\n",
              "      <th>player_id</th>\n",
              "      <th>name</th>\n",
              "      <th>age</th>\n",
              "      <th>gender</th>\n",
              "      <th>country</th>\n",
              "      <th>height</th>\n",
              "      <th>weight</th>\n",
              "      <th>ball_controlling_skills</th>\n",
              "      <th>body_reflexes</th>\n",
              "      <th>body_balance</th>\n",
              "      <th>...</th>\n",
              "      <th>strong_foot</th>\n",
              "      <th>behaviour_rating</th>\n",
              "      <th>matches_played</th>\n",
              "      <th>fitness_rating</th>\n",
              "      <th>trophies_won</th>\n",
              "      <th>dedication_level</th>\n",
              "      <th>coaching</th>\n",
              "      <th>years_of_experience</th>\n",
              "      <th>no_of_disqualifications</th>\n",
              "      <th>selection</th>\n",
              "    </tr>\n",
              "  </thead>\n",
              "  <tbody>\n",
              "    <tr>\n",
              "      <th>0</th>\n",
              "      <td>PLID_4964</td>\n",
              "      <td>Keva Horan</td>\n",
              "      <td>23</td>\n",
              "      <td>M</td>\n",
              "      <td>Ukraine</td>\n",
              "      <td>6'2</td>\n",
              "      <td>176lbs</td>\n",
              "      <td>77.0</td>\n",
              "      <td>58.0</td>\n",
              "      <td>47.0</td>\n",
              "      <td>...</td>\n",
              "      <td>Right</td>\n",
              "      <td>7.7</td>\n",
              "      <td>NaN</td>\n",
              "      <td>8.1</td>\n",
              "      <td>2.0</td>\n",
              "      <td>High</td>\n",
              "      <td>Talent Hunt</td>\n",
              "      <td>8.0</td>\n",
              "      <td>0.0</td>\n",
              "      <td>1</td>\n",
              "    </tr>\n",
              "    <tr>\n",
              "      <th>1</th>\n",
              "      <td>PLID_11234</td>\n",
              "      <td>Herma Tann</td>\n",
              "      <td>18</td>\n",
              "      <td>M</td>\n",
              "      <td>Russia</td>\n",
              "      <td>5'10</td>\n",
              "      <td>148lbs</td>\n",
              "      <td>54.0</td>\n",
              "      <td>69.0</td>\n",
              "      <td>70.0</td>\n",
              "      <td>...</td>\n",
              "      <td>Any</td>\n",
              "      <td>5.3</td>\n",
              "      <td>0.0</td>\n",
              "      <td>NaN</td>\n",
              "      <td>3.0</td>\n",
              "      <td>Medium</td>\n",
              "      <td>Source</td>\n",
              "      <td>3.0</td>\n",
              "      <td>0.0</td>\n",
              "      <td>0</td>\n",
              "    </tr>\n",
              "    <tr>\n",
              "      <th>2</th>\n",
              "      <td>PLID_19127</td>\n",
              "      <td>Eilene Kizer</td>\n",
              "      <td>16</td>\n",
              "      <td>F</td>\n",
              "      <td>Spain</td>\n",
              "      <td>6'2</td>\n",
              "      <td>172lbs</td>\n",
              "      <td>34.0</td>\n",
              "      <td>43.0</td>\n",
              "      <td>45.0</td>\n",
              "      <td>...</td>\n",
              "      <td>Left</td>\n",
              "      <td>4.7</td>\n",
              "      <td>0.0</td>\n",
              "      <td>6.6</td>\n",
              "      <td>5.0</td>\n",
              "      <td>Low</td>\n",
              "      <td>Academy</td>\n",
              "      <td>2.0</td>\n",
              "      <td>0.0</td>\n",
              "      <td>1</td>\n",
              "    </tr>\n",
              "    <tr>\n",
              "      <th>3</th>\n",
              "      <td>PLID_17467</td>\n",
              "      <td>Andrea Badgett</td>\n",
              "      <td>27</td>\n",
              "      <td>M</td>\n",
              "      <td>Chile</td>\n",
              "      <td>5'11</td>\n",
              "      <td>165lbs</td>\n",
              "      <td>79.0</td>\n",
              "      <td>73.0</td>\n",
              "      <td>76.0</td>\n",
              "      <td>...</td>\n",
              "      <td>Right</td>\n",
              "      <td>8.6</td>\n",
              "      <td>113.0</td>\n",
              "      <td>8.6</td>\n",
              "      <td>6.0</td>\n",
              "      <td>Medium</td>\n",
              "      <td>Academy</td>\n",
              "      <td>13.0</td>\n",
              "      <td>16.0</td>\n",
              "      <td>1</td>\n",
              "    </tr>\n",
              "    <tr>\n",
              "      <th>4</th>\n",
              "      <td>PLID_9661</td>\n",
              "      <td>Jeremiah Bumbalough</td>\n",
              "      <td>19</td>\n",
              "      <td>F</td>\n",
              "      <td>Argentina</td>\n",
              "      <td>5'8</td>\n",
              "      <td>158lbs</td>\n",
              "      <td>47.0</td>\n",
              "      <td>61.0</td>\n",
              "      <td>74.0</td>\n",
              "      <td>...</td>\n",
              "      <td>Right</td>\n",
              "      <td>NaN</td>\n",
              "      <td>0.0</td>\n",
              "      <td>5.7</td>\n",
              "      <td>5.0</td>\n",
              "      <td>Medium</td>\n",
              "      <td>Academy</td>\n",
              "      <td>4.0</td>\n",
              "      <td>0.0</td>\n",
              "      <td>0</td>\n",
              "    </tr>\n",
              "  </tbody>\n",
              "</table>\n",
              "<p>5 rows × 30 columns</p>\n",
              "</div>\n",
              "      <button class=\"colab-df-convert\" onclick=\"convertToInteractive('df-00e2e6e7-8ab3-4aec-ab65-6695da91e58f')\"\n",
              "              title=\"Convert this dataframe to an interactive table.\"\n",
              "              style=\"display:none;\">\n",
              "        \n",
              "  <svg xmlns=\"http://www.w3.org/2000/svg\" height=\"24px\"viewBox=\"0 0 24 24\"\n",
              "       width=\"24px\">\n",
              "    <path d=\"M0 0h24v24H0V0z\" fill=\"none\"/>\n",
              "    <path d=\"M18.56 5.44l.94 2.06.94-2.06 2.06-.94-2.06-.94-.94-2.06-.94 2.06-2.06.94zm-11 1L8.5 8.5l.94-2.06 2.06-.94-2.06-.94L8.5 2.5l-.94 2.06-2.06.94zm10 10l.94 2.06.94-2.06 2.06-.94-2.06-.94-.94-2.06-.94 2.06-2.06.94z\"/><path d=\"M17.41 7.96l-1.37-1.37c-.4-.4-.92-.59-1.43-.59-.52 0-1.04.2-1.43.59L10.3 9.45l-7.72 7.72c-.78.78-.78 2.05 0 2.83L4 21.41c.39.39.9.59 1.41.59.51 0 1.02-.2 1.41-.59l7.78-7.78 2.81-2.81c.8-.78.8-2.07 0-2.86zM5.41 20L4 18.59l7.72-7.72 1.47 1.35L5.41 20z\"/>\n",
              "  </svg>\n",
              "      </button>\n",
              "      \n",
              "  <style>\n",
              "    .colab-df-container {\n",
              "      display:flex;\n",
              "      flex-wrap:wrap;\n",
              "      gap: 12px;\n",
              "    }\n",
              "\n",
              "    .colab-df-convert {\n",
              "      background-color: #E8F0FE;\n",
              "      border: none;\n",
              "      border-radius: 50%;\n",
              "      cursor: pointer;\n",
              "      display: none;\n",
              "      fill: #1967D2;\n",
              "      height: 32px;\n",
              "      padding: 0 0 0 0;\n",
              "      width: 32px;\n",
              "    }\n",
              "\n",
              "    .colab-df-convert:hover {\n",
              "      background-color: #E2EBFA;\n",
              "      box-shadow: 0px 1px 2px rgba(60, 64, 67, 0.3), 0px 1px 3px 1px rgba(60, 64, 67, 0.15);\n",
              "      fill: #174EA6;\n",
              "    }\n",
              "\n",
              "    [theme=dark] .colab-df-convert {\n",
              "      background-color: #3B4455;\n",
              "      fill: #D2E3FC;\n",
              "    }\n",
              "\n",
              "    [theme=dark] .colab-df-convert:hover {\n",
              "      background-color: #434B5C;\n",
              "      box-shadow: 0px 1px 3px 1px rgba(0, 0, 0, 0.15);\n",
              "      filter: drop-shadow(0px 1px 2px rgba(0, 0, 0, 0.3));\n",
              "      fill: #FFFFFF;\n",
              "    }\n",
              "  </style>\n",
              "\n",
              "      <script>\n",
              "        const buttonEl =\n",
              "          document.querySelector('#df-00e2e6e7-8ab3-4aec-ab65-6695da91e58f button.colab-df-convert');\n",
              "        buttonEl.style.display =\n",
              "          google.colab.kernel.accessAllowed ? 'block' : 'none';\n",
              "\n",
              "        async function convertToInteractive(key) {\n",
              "          const element = document.querySelector('#df-00e2e6e7-8ab3-4aec-ab65-6695da91e58f');\n",
              "          const dataTable =\n",
              "            await google.colab.kernel.invokeFunction('convertToInteractive',\n",
              "                                                     [key], {});\n",
              "          if (!dataTable) return;\n",
              "\n",
              "          const docLinkHtml = 'Like what you see? Visit the ' +\n",
              "            '<a target=\"_blank\" href=https://colab.research.google.com/notebooks/data_table.ipynb>data table notebook</a>'\n",
              "            + ' to learn more about interactive tables.';\n",
              "          element.innerHTML = '';\n",
              "          dataTable['output_type'] = 'display_data';\n",
              "          await google.colab.output.renderOutput(dataTable, element);\n",
              "          const docLink = document.createElement('div');\n",
              "          docLink.innerHTML = docLinkHtml;\n",
              "          element.appendChild(docLink);\n",
              "        }\n",
              "      </script>\n",
              "    </div>\n",
              "  </div>\n",
              "  "
            ]
          },
          "metadata": {},
          "execution_count": 4
        }
      ]
    },
    {
      "cell_type": "code",
      "source": [
        "train.info()"
      ],
      "metadata": {
        "colab": {
          "base_uri": "https://localhost:8080/"
        },
        "id": "gu005FTijTTd",
        "outputId": "2db9af51-c421-4eee-c4c9-502c7dd15d97"
      },
      "execution_count": null,
      "outputs": [
        {
          "output_type": "stream",
          "name": "stdout",
          "text": [
            "<class 'pandas.core.frame.DataFrame'>\n",
            "RangeIndex: 13994 entries, 0 to 13993\n",
            "Data columns (total 30 columns):\n",
            " #   Column                     Non-Null Count  Dtype  \n",
            "---  ------                     --------------  -----  \n",
            " 0   player_id                  13994 non-null  object \n",
            " 1   name                       13994 non-null  object \n",
            " 2   age                        13994 non-null  int64  \n",
            " 3   gender                     13975 non-null  object \n",
            " 4   country                    13994 non-null  object \n",
            " 5   height                     13994 non-null  object \n",
            " 6   weight                     13577 non-null  object \n",
            " 7   ball_controlling_skills    13581 non-null  float64\n",
            " 8   body_reflexes              13994 non-null  float64\n",
            " 9   body_balance               13994 non-null  float64\n",
            " 10  jumping_skills             13970 non-null  float64\n",
            " 11  penalties_conversion_rate  13964 non-null  float64\n",
            " 12  mental_strength            13966 non-null  float64\n",
            " 13  goalkeeping_skills         13994 non-null  float64\n",
            " 14  defending_skills           13994 non-null  float64\n",
            " 15  passing_skills             13994 non-null  float64\n",
            " 16  dribbling_skills           13994 non-null  float64\n",
            " 17  shot_accuracy              13422 non-null  float64\n",
            " 18  body_strength_stamina      13994 non-null  float64\n",
            " 19  max_running_speed          13994 non-null  float64\n",
            " 20  strong_foot                13442 non-null  object \n",
            " 21  behaviour_rating           13291 non-null  float64\n",
            " 22  matches_played             13328 non-null  float64\n",
            " 23  fitness_rating             13299 non-null  float64\n",
            " 24  trophies_won               13994 non-null  float64\n",
            " 25  dedication_level           13994 non-null  object \n",
            " 26  coaching                   13869 non-null  object \n",
            " 27  years_of_experience        13850 non-null  float64\n",
            " 28  no_of_disqualifications    13994 non-null  float64\n",
            " 29  selection                  13994 non-null  int64  \n",
            "dtypes: float64(19), int64(2), object(9)\n",
            "memory usage: 3.2+ MB\n"
          ]
        }
      ]
    },
    {
      "cell_type": "code",
      "source": [
        "train.describe()"
      ],
      "metadata": {
        "colab": {
          "base_uri": "https://localhost:8080/",
          "height": 393
        },
        "id": "RQJtdF5ijv2O",
        "outputId": "a33865fc-cad5-468f-baa8-37f0fc633c35"
      },
      "execution_count": null,
      "outputs": [
        {
          "output_type": "execute_result",
          "data": {
            "text/plain": [
              "                age  ball_controlling_skills  body_reflexes  body_balance  \\\n",
              "count  13994.000000             13581.000000   13994.000000  13994.000000   \n",
              "mean      21.135844                56.043958      61.934329     62.753323   \n",
              "std        5.162719                16.787353      14.931963     14.203638   \n",
              "min       16.000000                 5.000000      12.000000      9.000000   \n",
              "25%       17.000000                51.000000      54.000000     55.000000   \n",
              "50%       20.000000                61.000000      64.000000     65.000000   \n",
              "75%       24.000000                67.000000      72.000000     73.000000   \n",
              "max       61.000000                95.000000      96.000000     97.000000   \n",
              "\n",
              "       jumping_skills  penalties_conversion_rate  mental_strength  \\\n",
              "count    13970.000000               13964.000000     13966.000000   \n",
              "mean        63.612026                  48.495703        56.768366   \n",
              "std         11.938712                  15.767506        11.977744   \n",
              "min         14.000000                   7.000000         9.000000   \n",
              "25%         57.000000                  39.000000        49.000000   \n",
              "50%         64.000000                  49.000000        58.000000   \n",
              "75%         72.000000                  60.000000        65.000000   \n",
              "max         95.000000                  92.000000        92.000000   \n",
              "\n",
              "       goalkeeping_skills  defending_skills  passing_skills  ...  \\\n",
              "count        13994.000000      13994.000000    13994.000000  ...   \n",
              "mean            16.474632         48.108118       52.935973  ...   \n",
              "std             16.874551         16.821929       14.201782  ...   \n",
              "min              1.000000          9.000000       13.000000  ...   \n",
              "25%             10.000000         36.000000       45.000000  ...   \n",
              "50%             11.000000         52.000000       56.000000  ...   \n",
              "75%             12.000000         61.000000       63.000000  ...   \n",
              "max             88.000000         86.000000       89.000000  ...   \n",
              "\n",
              "       shot_accuracy  body_strength_stamina  max_running_speed  \\\n",
              "count   13422.000000           13994.000000       13994.000000   \n",
              "mean       47.178140              62.652780          23.586094   \n",
              "std        15.803991              11.512526           5.194387   \n",
              "min         7.000000              15.000000           5.400000   \n",
              "25%        38.000000              56.000000          21.100000   \n",
              "50%        50.000000              64.000000          24.600000   \n",
              "75%        59.000000              71.000000          27.100000   \n",
              "max        86.000000              92.000000          35.000000   \n",
              "\n",
              "       behaviour_rating  matches_played  fitness_rating  trophies_won  \\\n",
              "count      13291.000000    13328.000000    13299.000000  13994.000000   \n",
              "mean           5.822068        3.908463        6.405482      3.389095   \n",
              "std            1.095702       13.583229        1.706983      1.709152   \n",
              "min            2.100000        0.000000        1.000000      0.000000   \n",
              "25%            5.100000        0.000000        5.600000      2.000000   \n",
              "50%            5.900000        0.000000        6.800000      3.000000   \n",
              "75%            6.500000        1.000000        7.500000      5.000000   \n",
              "max            9.800000      151.000000       10.000000      9.000000   \n",
              "\n",
              "       years_of_experience  no_of_disqualifications     selection  \n",
              "count         13850.000000             13994.000000  13994.000000  \n",
              "mean              6.434152                -4.740675      0.557525  \n",
              "std               4.450954                72.023656      0.496698  \n",
              "min               1.000000              -999.000000      0.000000  \n",
              "25%               2.000000                 0.000000      0.000000  \n",
              "50%               6.000000                 0.000000      1.000000  \n",
              "75%              10.000000                 0.000000      1.000000  \n",
              "max              26.000000                25.000000      1.000000  \n",
              "\n",
              "[8 rows x 21 columns]"
            ],
            "text/html": [
              "\n",
              "  <div id=\"df-f1f2d2b3-5a16-44b0-981f-3c97a88fef63\">\n",
              "    <div class=\"colab-df-container\">\n",
              "      <div>\n",
              "<style scoped>\n",
              "    .dataframe tbody tr th:only-of-type {\n",
              "        vertical-align: middle;\n",
              "    }\n",
              "\n",
              "    .dataframe tbody tr th {\n",
              "        vertical-align: top;\n",
              "    }\n",
              "\n",
              "    .dataframe thead th {\n",
              "        text-align: right;\n",
              "    }\n",
              "</style>\n",
              "<table border=\"1\" class=\"dataframe\">\n",
              "  <thead>\n",
              "    <tr style=\"text-align: right;\">\n",
              "      <th></th>\n",
              "      <th>age</th>\n",
              "      <th>ball_controlling_skills</th>\n",
              "      <th>body_reflexes</th>\n",
              "      <th>body_balance</th>\n",
              "      <th>jumping_skills</th>\n",
              "      <th>penalties_conversion_rate</th>\n",
              "      <th>mental_strength</th>\n",
              "      <th>goalkeeping_skills</th>\n",
              "      <th>defending_skills</th>\n",
              "      <th>passing_skills</th>\n",
              "      <th>...</th>\n",
              "      <th>shot_accuracy</th>\n",
              "      <th>body_strength_stamina</th>\n",
              "      <th>max_running_speed</th>\n",
              "      <th>behaviour_rating</th>\n",
              "      <th>matches_played</th>\n",
              "      <th>fitness_rating</th>\n",
              "      <th>trophies_won</th>\n",
              "      <th>years_of_experience</th>\n",
              "      <th>no_of_disqualifications</th>\n",
              "      <th>selection</th>\n",
              "    </tr>\n",
              "  </thead>\n",
              "  <tbody>\n",
              "    <tr>\n",
              "      <th>count</th>\n",
              "      <td>13994.000000</td>\n",
              "      <td>13581.000000</td>\n",
              "      <td>13994.000000</td>\n",
              "      <td>13994.000000</td>\n",
              "      <td>13970.000000</td>\n",
              "      <td>13964.000000</td>\n",
              "      <td>13966.000000</td>\n",
              "      <td>13994.000000</td>\n",
              "      <td>13994.000000</td>\n",
              "      <td>13994.000000</td>\n",
              "      <td>...</td>\n",
              "      <td>13422.000000</td>\n",
              "      <td>13994.000000</td>\n",
              "      <td>13994.000000</td>\n",
              "      <td>13291.000000</td>\n",
              "      <td>13328.000000</td>\n",
              "      <td>13299.000000</td>\n",
              "      <td>13994.000000</td>\n",
              "      <td>13850.000000</td>\n",
              "      <td>13994.000000</td>\n",
              "      <td>13994.000000</td>\n",
              "    </tr>\n",
              "    <tr>\n",
              "      <th>mean</th>\n",
              "      <td>21.135844</td>\n",
              "      <td>56.043958</td>\n",
              "      <td>61.934329</td>\n",
              "      <td>62.753323</td>\n",
              "      <td>63.612026</td>\n",
              "      <td>48.495703</td>\n",
              "      <td>56.768366</td>\n",
              "      <td>16.474632</td>\n",
              "      <td>48.108118</td>\n",
              "      <td>52.935973</td>\n",
              "      <td>...</td>\n",
              "      <td>47.178140</td>\n",
              "      <td>62.652780</td>\n",
              "      <td>23.586094</td>\n",
              "      <td>5.822068</td>\n",
              "      <td>3.908463</td>\n",
              "      <td>6.405482</td>\n",
              "      <td>3.389095</td>\n",
              "      <td>6.434152</td>\n",
              "      <td>-4.740675</td>\n",
              "      <td>0.557525</td>\n",
              "    </tr>\n",
              "    <tr>\n",
              "      <th>std</th>\n",
              "      <td>5.162719</td>\n",
              "      <td>16.787353</td>\n",
              "      <td>14.931963</td>\n",
              "      <td>14.203638</td>\n",
              "      <td>11.938712</td>\n",
              "      <td>15.767506</td>\n",
              "      <td>11.977744</td>\n",
              "      <td>16.874551</td>\n",
              "      <td>16.821929</td>\n",
              "      <td>14.201782</td>\n",
              "      <td>...</td>\n",
              "      <td>15.803991</td>\n",
              "      <td>11.512526</td>\n",
              "      <td>5.194387</td>\n",
              "      <td>1.095702</td>\n",
              "      <td>13.583229</td>\n",
              "      <td>1.706983</td>\n",
              "      <td>1.709152</td>\n",
              "      <td>4.450954</td>\n",
              "      <td>72.023656</td>\n",
              "      <td>0.496698</td>\n",
              "    </tr>\n",
              "    <tr>\n",
              "      <th>min</th>\n",
              "      <td>16.000000</td>\n",
              "      <td>5.000000</td>\n",
              "      <td>12.000000</td>\n",
              "      <td>9.000000</td>\n",
              "      <td>14.000000</td>\n",
              "      <td>7.000000</td>\n",
              "      <td>9.000000</td>\n",
              "      <td>1.000000</td>\n",
              "      <td>9.000000</td>\n",
              "      <td>13.000000</td>\n",
              "      <td>...</td>\n",
              "      <td>7.000000</td>\n",
              "      <td>15.000000</td>\n",
              "      <td>5.400000</td>\n",
              "      <td>2.100000</td>\n",
              "      <td>0.000000</td>\n",
              "      <td>1.000000</td>\n",
              "      <td>0.000000</td>\n",
              "      <td>1.000000</td>\n",
              "      <td>-999.000000</td>\n",
              "      <td>0.000000</td>\n",
              "    </tr>\n",
              "    <tr>\n",
              "      <th>25%</th>\n",
              "      <td>17.000000</td>\n",
              "      <td>51.000000</td>\n",
              "      <td>54.000000</td>\n",
              "      <td>55.000000</td>\n",
              "      <td>57.000000</td>\n",
              "      <td>39.000000</td>\n",
              "      <td>49.000000</td>\n",
              "      <td>10.000000</td>\n",
              "      <td>36.000000</td>\n",
              "      <td>45.000000</td>\n",
              "      <td>...</td>\n",
              "      <td>38.000000</td>\n",
              "      <td>56.000000</td>\n",
              "      <td>21.100000</td>\n",
              "      <td>5.100000</td>\n",
              "      <td>0.000000</td>\n",
              "      <td>5.600000</td>\n",
              "      <td>2.000000</td>\n",
              "      <td>2.000000</td>\n",
              "      <td>0.000000</td>\n",
              "      <td>0.000000</td>\n",
              "    </tr>\n",
              "    <tr>\n",
              "      <th>50%</th>\n",
              "      <td>20.000000</td>\n",
              "      <td>61.000000</td>\n",
              "      <td>64.000000</td>\n",
              "      <td>65.000000</td>\n",
              "      <td>64.000000</td>\n",
              "      <td>49.000000</td>\n",
              "      <td>58.000000</td>\n",
              "      <td>11.000000</td>\n",
              "      <td>52.000000</td>\n",
              "      <td>56.000000</td>\n",
              "      <td>...</td>\n",
              "      <td>50.000000</td>\n",
              "      <td>64.000000</td>\n",
              "      <td>24.600000</td>\n",
              "      <td>5.900000</td>\n",
              "      <td>0.000000</td>\n",
              "      <td>6.800000</td>\n",
              "      <td>3.000000</td>\n",
              "      <td>6.000000</td>\n",
              "      <td>0.000000</td>\n",
              "      <td>1.000000</td>\n",
              "    </tr>\n",
              "    <tr>\n",
              "      <th>75%</th>\n",
              "      <td>24.000000</td>\n",
              "      <td>67.000000</td>\n",
              "      <td>72.000000</td>\n",
              "      <td>73.000000</td>\n",
              "      <td>72.000000</td>\n",
              "      <td>60.000000</td>\n",
              "      <td>65.000000</td>\n",
              "      <td>12.000000</td>\n",
              "      <td>61.000000</td>\n",
              "      <td>63.000000</td>\n",
              "      <td>...</td>\n",
              "      <td>59.000000</td>\n",
              "      <td>71.000000</td>\n",
              "      <td>27.100000</td>\n",
              "      <td>6.500000</td>\n",
              "      <td>1.000000</td>\n",
              "      <td>7.500000</td>\n",
              "      <td>5.000000</td>\n",
              "      <td>10.000000</td>\n",
              "      <td>0.000000</td>\n",
              "      <td>1.000000</td>\n",
              "    </tr>\n",
              "    <tr>\n",
              "      <th>max</th>\n",
              "      <td>61.000000</td>\n",
              "      <td>95.000000</td>\n",
              "      <td>96.000000</td>\n",
              "      <td>97.000000</td>\n",
              "      <td>95.000000</td>\n",
              "      <td>92.000000</td>\n",
              "      <td>92.000000</td>\n",
              "      <td>88.000000</td>\n",
              "      <td>86.000000</td>\n",
              "      <td>89.000000</td>\n",
              "      <td>...</td>\n",
              "      <td>86.000000</td>\n",
              "      <td>92.000000</td>\n",
              "      <td>35.000000</td>\n",
              "      <td>9.800000</td>\n",
              "      <td>151.000000</td>\n",
              "      <td>10.000000</td>\n",
              "      <td>9.000000</td>\n",
              "      <td>26.000000</td>\n",
              "      <td>25.000000</td>\n",
              "      <td>1.000000</td>\n",
              "    </tr>\n",
              "  </tbody>\n",
              "</table>\n",
              "<p>8 rows × 21 columns</p>\n",
              "</div>\n",
              "      <button class=\"colab-df-convert\" onclick=\"convertToInteractive('df-f1f2d2b3-5a16-44b0-981f-3c97a88fef63')\"\n",
              "              title=\"Convert this dataframe to an interactive table.\"\n",
              "              style=\"display:none;\">\n",
              "        \n",
              "  <svg xmlns=\"http://www.w3.org/2000/svg\" height=\"24px\"viewBox=\"0 0 24 24\"\n",
              "       width=\"24px\">\n",
              "    <path d=\"M0 0h24v24H0V0z\" fill=\"none\"/>\n",
              "    <path d=\"M18.56 5.44l.94 2.06.94-2.06 2.06-.94-2.06-.94-.94-2.06-.94 2.06-2.06.94zm-11 1L8.5 8.5l.94-2.06 2.06-.94-2.06-.94L8.5 2.5l-.94 2.06-2.06.94zm10 10l.94 2.06.94-2.06 2.06-.94-2.06-.94-.94-2.06-.94 2.06-2.06.94z\"/><path d=\"M17.41 7.96l-1.37-1.37c-.4-.4-.92-.59-1.43-.59-.52 0-1.04.2-1.43.59L10.3 9.45l-7.72 7.72c-.78.78-.78 2.05 0 2.83L4 21.41c.39.39.9.59 1.41.59.51 0 1.02-.2 1.41-.59l7.78-7.78 2.81-2.81c.8-.78.8-2.07 0-2.86zM5.41 20L4 18.59l7.72-7.72 1.47 1.35L5.41 20z\"/>\n",
              "  </svg>\n",
              "      </button>\n",
              "      \n",
              "  <style>\n",
              "    .colab-df-container {\n",
              "      display:flex;\n",
              "      flex-wrap:wrap;\n",
              "      gap: 12px;\n",
              "    }\n",
              "\n",
              "    .colab-df-convert {\n",
              "      background-color: #E8F0FE;\n",
              "      border: none;\n",
              "      border-radius: 50%;\n",
              "      cursor: pointer;\n",
              "      display: none;\n",
              "      fill: #1967D2;\n",
              "      height: 32px;\n",
              "      padding: 0 0 0 0;\n",
              "      width: 32px;\n",
              "    }\n",
              "\n",
              "    .colab-df-convert:hover {\n",
              "      background-color: #E2EBFA;\n",
              "      box-shadow: 0px 1px 2px rgba(60, 64, 67, 0.3), 0px 1px 3px 1px rgba(60, 64, 67, 0.15);\n",
              "      fill: #174EA6;\n",
              "    }\n",
              "\n",
              "    [theme=dark] .colab-df-convert {\n",
              "      background-color: #3B4455;\n",
              "      fill: #D2E3FC;\n",
              "    }\n",
              "\n",
              "    [theme=dark] .colab-df-convert:hover {\n",
              "      background-color: #434B5C;\n",
              "      box-shadow: 0px 1px 3px 1px rgba(0, 0, 0, 0.15);\n",
              "      filter: drop-shadow(0px 1px 2px rgba(0, 0, 0, 0.3));\n",
              "      fill: #FFFFFF;\n",
              "    }\n",
              "  </style>\n",
              "\n",
              "      <script>\n",
              "        const buttonEl =\n",
              "          document.querySelector('#df-f1f2d2b3-5a16-44b0-981f-3c97a88fef63 button.colab-df-convert');\n",
              "        buttonEl.style.display =\n",
              "          google.colab.kernel.accessAllowed ? 'block' : 'none';\n",
              "\n",
              "        async function convertToInteractive(key) {\n",
              "          const element = document.querySelector('#df-f1f2d2b3-5a16-44b0-981f-3c97a88fef63');\n",
              "          const dataTable =\n",
              "            await google.colab.kernel.invokeFunction('convertToInteractive',\n",
              "                                                     [key], {});\n",
              "          if (!dataTable) return;\n",
              "\n",
              "          const docLinkHtml = 'Like what you see? Visit the ' +\n",
              "            '<a target=\"_blank\" href=https://colab.research.google.com/notebooks/data_table.ipynb>data table notebook</a>'\n",
              "            + ' to learn more about interactive tables.';\n",
              "          element.innerHTML = '';\n",
              "          dataTable['output_type'] = 'display_data';\n",
              "          await google.colab.output.renderOutput(dataTable, element);\n",
              "          const docLink = document.createElement('div');\n",
              "          docLink.innerHTML = docLinkHtml;\n",
              "          element.appendChild(docLink);\n",
              "        }\n",
              "      </script>\n",
              "    </div>\n",
              "  </div>\n",
              "  "
            ]
          },
          "metadata": {},
          "execution_count": 6
        }
      ]
    },
    {
      "cell_type": "code",
      "source": [
        "train.columns"
      ],
      "metadata": {
        "colab": {
          "base_uri": "https://localhost:8080/"
        },
        "id": "c8uM0DSBj0wP",
        "outputId": "5ce4fbe4-af36-4d58-dc90-5a9b73353f9f"
      },
      "execution_count": null,
      "outputs": [
        {
          "output_type": "execute_result",
          "data": {
            "text/plain": [
              "Index(['player_id', 'name', 'age', 'gender', 'country', 'height', 'weight',\n",
              "       'ball_controlling_skills', 'body_reflexes', 'body_balance',\n",
              "       'jumping_skills', 'penalties_conversion_rate', 'mental_strength',\n",
              "       'goalkeeping_skills', 'defending_skills', 'passing_skills',\n",
              "       'dribbling_skills', 'shot_accuracy', 'body_strength_stamina',\n",
              "       'max_running_speed', 'strong_foot', 'behaviour_rating',\n",
              "       'matches_played', 'fitness_rating', 'trophies_won', 'dedication_level',\n",
              "       'coaching', 'years_of_experience', 'no_of_disqualifications',\n",
              "       'selection'],\n",
              "      dtype='object')"
            ]
          },
          "metadata": {},
          "execution_count": 7
        }
      ]
    },
    {
      "cell_type": "code",
      "source": [
        "train.isna().sum()"
      ],
      "metadata": {
        "colab": {
          "base_uri": "https://localhost:8080/"
        },
        "id": "XivL6Sbrj-KU",
        "outputId": "8d091a3c-ed91-4634-bbfe-af91bf142696"
      },
      "execution_count": null,
      "outputs": [
        {
          "output_type": "execute_result",
          "data": {
            "text/plain": [
              "player_id                      0\n",
              "name                           0\n",
              "age                            0\n",
              "gender                        19\n",
              "country                        0\n",
              "height                         0\n",
              "weight                       417\n",
              "ball_controlling_skills      413\n",
              "body_reflexes                  0\n",
              "body_balance                   0\n",
              "jumping_skills                24\n",
              "penalties_conversion_rate     30\n",
              "mental_strength               28\n",
              "goalkeeping_skills             0\n",
              "defending_skills               0\n",
              "passing_skills                 0\n",
              "dribbling_skills               0\n",
              "shot_accuracy                572\n",
              "body_strength_stamina          0\n",
              "max_running_speed              0\n",
              "strong_foot                  552\n",
              "behaviour_rating             703\n",
              "matches_played               666\n",
              "fitness_rating               695\n",
              "trophies_won                   0\n",
              "dedication_level               0\n",
              "coaching                     125\n",
              "years_of_experience          144\n",
              "no_of_disqualifications        0\n",
              "selection                      0\n",
              "dtype: int64"
            ]
          },
          "metadata": {},
          "execution_count": 8
        }
      ]
    },
    {
      "cell_type": "code",
      "source": [
        "#Checking for duplicates\n",
        "train.duplicated().sum()"
      ],
      "metadata": {
        "colab": {
          "base_uri": "https://localhost:8080/"
        },
        "id": "rM9jkj1tkAwS",
        "outputId": "e5817d6c-4a6a-4f9a-82dd-68ecc8494cc3"
      },
      "execution_count": null,
      "outputs": [
        {
          "output_type": "execute_result",
          "data": {
            "text/plain": [
              "0"
            ]
          },
          "metadata": {},
          "execution_count": 9
        }
      ]
    },
    {
      "cell_type": "code",
      "source": [
        "#Preprocessing\n",
        "#Removing name column as it does not contribute to the model\n",
        "train1=train.drop('name',axis=1)"
      ],
      "metadata": {
        "id": "BJIZjazukUH5"
      },
      "execution_count": null,
      "outputs": []
    },
    {
      "cell_type": "code",
      "source": [
        "#Missing value handling\n",
        "#Gender column\n",
        "train1['gender']=train1['gender'].fillna(train1['gender'].mode()[0])\n"
      ],
      "metadata": {
        "id": "nTXyzOAYkmYv"
      },
      "execution_count": null,
      "outputs": []
    },
    {
      "cell_type": "code",
      "source": [
        "train1.isna().sum()"
      ],
      "metadata": {
        "colab": {
          "base_uri": "https://localhost:8080/"
        },
        "id": "N7e7RPK_lUq6",
        "outputId": "634721c4-c973-44ee-dc7e-3869264f7bda"
      },
      "execution_count": null,
      "outputs": [
        {
          "output_type": "execute_result",
          "data": {
            "text/plain": [
              "player_id                      0\n",
              "age                            0\n",
              "gender                         0\n",
              "country                        0\n",
              "height                         0\n",
              "weight                       417\n",
              "ball_controlling_skills      413\n",
              "body_reflexes                  0\n",
              "body_balance                   0\n",
              "jumping_skills                24\n",
              "penalties_conversion_rate     30\n",
              "mental_strength               28\n",
              "goalkeeping_skills             0\n",
              "defending_skills               0\n",
              "passing_skills                 0\n",
              "dribbling_skills               0\n",
              "shot_accuracy                572\n",
              "body_strength_stamina          0\n",
              "max_running_speed              0\n",
              "strong_foot                  552\n",
              "behaviour_rating             703\n",
              "matches_played               666\n",
              "fitness_rating               695\n",
              "trophies_won                   0\n",
              "dedication_level               0\n",
              "coaching                     125\n",
              "years_of_experience          144\n",
              "no_of_disqualifications        0\n",
              "selection                      0\n",
              "dtype: int64"
            ]
          },
          "metadata": {},
          "execution_count": 12
        }
      ]
    },
    {
      "cell_type": "code",
      "source": [
        "#Formatting height column\n",
        "train1['height']=train1['height'].str.replace(\"'\",'.')"
      ],
      "metadata": {
        "id": "H_XyhCThlcCW"
      },
      "execution_count": null,
      "outputs": []
    },
    {
      "cell_type": "code",
      "source": [
        "train1['height'].head()"
      ],
      "metadata": {
        "colab": {
          "base_uri": "https://localhost:8080/"
        },
        "id": "wwnjis_Umm3C",
        "outputId": "edad258d-08a5-40fa-871c-cc2bde66fe55"
      },
      "execution_count": null,
      "outputs": [
        {
          "output_type": "execute_result",
          "data": {
            "text/plain": [
              "0     6.2\n",
              "1    5.10\n",
              "2     6.2\n",
              "3    5.11\n",
              "4     5.8\n",
              "Name: height, dtype: object"
            ]
          },
          "metadata": {},
          "execution_count": 14
        }
      ]
    },
    {
      "cell_type": "code",
      "source": [
        "train1['height']=train1['height'].astype(float)"
      ],
      "metadata": {
        "id": "XLEK3eyNmnyo"
      },
      "execution_count": null,
      "outputs": []
    },
    {
      "cell_type": "code",
      "source": [
        "train1['height'].head()"
      ],
      "metadata": {
        "colab": {
          "base_uri": "https://localhost:8080/"
        },
        "id": "2mAayLrAnDfJ",
        "outputId": "2eb178c7-de70-48ad-ae3c-a2a6e312ba7f"
      },
      "execution_count": null,
      "outputs": [
        {
          "output_type": "execute_result",
          "data": {
            "text/plain": [
              "0    6.20\n",
              "1    5.10\n",
              "2    6.20\n",
              "3    5.11\n",
              "4    5.80\n",
              "Name: height, dtype: float64"
            ]
          },
          "metadata": {},
          "execution_count": 16
        }
      ]
    },
    {
      "cell_type": "code",
      "source": [
        "#Formatting weight column\n",
        "train1['weight']=train1['weight'].str.replace(\"lbs\",' ')"
      ],
      "metadata": {
        "id": "nLmjAJ9xnFGu"
      },
      "execution_count": null,
      "outputs": []
    },
    {
      "cell_type": "code",
      "source": [
        "train1['weight']=train1['weight'].astype(float)"
      ],
      "metadata": {
        "id": "3g4EbJl7nRqe"
      },
      "execution_count": null,
      "outputs": []
    },
    {
      "cell_type": "code",
      "source": [
        "plt.hist(train1['weight'])\n",
        "plt.show()"
      ],
      "metadata": {
        "colab": {
          "base_uri": "https://localhost:8080/",
          "height": 265
        },
        "id": "W_F0KMsonUrv",
        "outputId": "cf69ff3b-6aa8-49f2-85a3-bc1a1f69b258"
      },
      "execution_count": null,
      "outputs": [
        {
          "output_type": "display_data",
          "data": {
            "text/plain": [
              "<Figure size 432x288 with 1 Axes>"
            ],
            "image/png": "[encoded data removed]"
          },
          "metadata": {
            "needs_background": "light"
          }
        }
      ]
    },
    {
      "cell_type": "code",
      "source": [
        "#Replacing with mean value\n",
        "train1['weight']=train1['weight'].fillna(train1['weight'].mean())"
      ],
      "metadata": {
        "id": "hEfrntounjmW"
      },
      "execution_count": null,
      "outputs": []
    },
    {
      "cell_type": "code",
      "source": [
        "plt.hist(train1['ball_controlling_skills'])\n",
        "plt.show()"
      ],
      "metadata": {
        "colab": {
          "base_uri": "https://localhost:8080/",
          "height": 265
        },
        "id": "-5na4AhYn0A5",
        "outputId": "6ad5635e-81f0-4440-92f1-a72eb99f5faa"
      },
      "execution_count": null,
      "outputs": [
        {
          "output_type": "display_data",
          "data": {
            "text/plain": [
              "<Figure size 432x288 with 1 Axes>"
            ],
            "image/png": "[encoded data removed]"
          },
          "metadata": {
            "needs_background": "light"
          }
        }
      ]
    },
    {
      "cell_type": "code",
      "source": [
        "#Replacing with median value since left skewed\n",
        "train1['ball_controlling_skills']=train1['ball_controlling_skills'].fillna(train1['ball_controlling_skills'].median())"
      ],
      "metadata": {
        "id": "9u6vXYIhn-zg"
      },
      "execution_count": null,
      "outputs": []
    },
    {
      "cell_type": "code",
      "source": [
        "plt.hist(train1['jumping_skills'])\n",
        "plt.show()"
      ],
      "metadata": {
        "colab": {
          "base_uri": "https://localhost:8080/",
          "height": 265
        },
        "id": "IxMjgGsEoIyR",
        "outputId": "63dabd5e-f7b3-49b6-b110-70181498a517"
      },
      "execution_count": null,
      "outputs": [
        {
          "output_type": "display_data",
          "data": {
            "text/plain": [
              "<Figure size 432x288 with 1 Axes>"
            ],
            "image/png": "[encoded data removed]"
          },
          "metadata": {
            "needs_background": "light"
          }
        }
      ]
    },
    {
      "cell_type": "code",
      "source": [
        "#Replacing with median value since left skewed\n",
        "train1['jumping_skills']=train1['jumping_skills'].fillna(train1['jumping_skills'].median())"
      ],
      "metadata": {
        "id": "budCNrxgodGR"
      },
      "execution_count": null,
      "outputs": []
    },
    {
      "cell_type": "code",
      "source": [
        "plt.hist(train1['penalties_conversion_rate'])\n",
        "plt.show()"
      ],
      "metadata": {
        "colab": {
          "base_uri": "https://localhost:8080/",
          "height": 265
        },
        "id": "FS_bXYavoi73",
        "outputId": "28d836cd-d018-40f3-da75-2e3a52867758"
      },
      "execution_count": null,
      "outputs": [
        {
          "output_type": "display_data",
          "data": {
            "text/plain": [
              "<Figure size 432x288 with 1 Axes>"
            ],
            "image/png": "[encoded data removed]"
          },
          "metadata": {
            "needs_background": "light"
          }
        }
      ]
    },
    {
      "cell_type": "code",
      "source": [
        "#Replacing with mean value\n",
        "train1['penalties_conversion_rate']=train1['penalties_conversion_rate'].fillna(train1['penalties_conversion_rate'].mean())"
      ],
      "metadata": {
        "id": "pICHB5U2otv_"
      },
      "execution_count": null,
      "outputs": []
    },
    {
      "cell_type": "code",
      "source": [
        "plt.hist(train1['mental_strength'])\n",
        "plt.show()"
      ],
      "metadata": {
        "colab": {
          "base_uri": "https://localhost:8080/",
          "height": 265
        },
        "id": "mKlsprHlozjf",
        "outputId": "1e957214-76e5-4897-de8e-839172081af9"
      },
      "execution_count": null,
      "outputs": [
        {
          "output_type": "display_data",
          "data": {
            "text/plain": [
              "<Figure size 432x288 with 1 Axes>"
            ],
            "image/png": "[encoded data removed]"
          },
          "metadata": {
            "needs_background": "light"
          }
        }
      ]
    },
    {
      "cell_type": "code",
      "source": [
        "#Replacing with median value\n",
        "train1['mental_strength']=train1['mental_strength'].fillna(train1['mental_strength'].median())"
      ],
      "metadata": {
        "id": "WD6Q-6MVpAo3"
      },
      "execution_count": null,
      "outputs": []
    },
    {
      "cell_type": "code",
      "source": [
        "train1.isna().sum()"
      ],
      "metadata": {
        "colab": {
          "base_uri": "https://localhost:8080/"
        },
        "id": "oxXVrTT4pLUv",
        "outputId": "651c1af9-9745-44d1-cb59-456686248748"
      },
      "execution_count": null,
      "outputs": [
        {
          "output_type": "execute_result",
          "data": {
            "text/plain": [
              "player_id                      0\n",
              "age                            0\n",
              "gender                         0\n",
              "country                        0\n",
              "height                         0\n",
              "weight                         0\n",
              "ball_controlling_skills        0\n",
              "body_reflexes                  0\n",
              "body_balance                   0\n",
              "jumping_skills                 0\n",
              "penalties_conversion_rate      0\n",
              "mental_strength                0\n",
              "goalkeeping_skills             0\n",
              "defending_skills               0\n",
              "passing_skills                 0\n",
              "dribbling_skills               0\n",
              "shot_accuracy                572\n",
              "body_strength_stamina          0\n",
              "max_running_speed              0\n",
              "strong_foot                  552\n",
              "behaviour_rating             703\n",
              "matches_played               666\n",
              "fitness_rating               695\n",
              "trophies_won                   0\n",
              "dedication_level               0\n",
              "coaching                     125\n",
              "years_of_experience          144\n",
              "no_of_disqualifications        0\n",
              "selection                      0\n",
              "dtype: int64"
            ]
          },
          "metadata": {},
          "execution_count": 29
        }
      ]
    },
    {
      "cell_type": "code",
      "source": [
        "plt.hist(train1['shot_accuracy'])\n",
        "plt.show()"
      ],
      "metadata": {
        "colab": {
          "base_uri": "https://localhost:8080/",
          "height": 265
        },
        "id": "P6wO0aCipGx3",
        "outputId": "785ef883-5929-4c32-8320-dd19dc7683bc"
      },
      "execution_count": null,
      "outputs": [
        {
          "output_type": "display_data",
          "data": {
            "text/plain": [
              "<Figure size 432x288 with 1 Axes>"
            ],
            "image/png": "[encoded data removed]"
          },
          "metadata": {
            "needs_background": "light"
          }
        }
      ]
    },
    {
      "cell_type": "code",
      "source": [
        "#Replacing with median value\n",
        "train1['shot_accuracy']=train1['shot_accuracy'].fillna(train1['shot_accuracy'].median())"
      ],
      "metadata": {
        "id": "dwIeJ181pVFX"
      },
      "execution_count": null,
      "outputs": []
    },
    {
      "cell_type": "code",
      "source": [
        "#Replacing with mode value since it's a categorical column\n",
        "train1['strong_foot']=train1['strong_foot'].fillna(train1['strong_foot'].mode()[0])"
      ],
      "metadata": {
        "id": "ce4DjPBzpXxZ"
      },
      "execution_count": null,
      "outputs": []
    },
    {
      "cell_type": "code",
      "source": [
        "plt.hist(train1['behaviour_rating'])\n",
        "plt.show()\n"
      ],
      "metadata": {
        "colab": {
          "base_uri": "https://localhost:8080/",
          "height": 265
        },
        "id": "u_ojjIudpt_a",
        "outputId": "8ffec2d3-9097-4ab3-e9ef-df530d5565f3"
      },
      "execution_count": null,
      "outputs": [
        {
          "output_type": "display_data",
          "data": {
            "text/plain": [
              "<Figure size 432x288 with 1 Axes>"
            ],
            "image/png": "[encoded data removed]"
          },
          "metadata": {
            "needs_background": "light"
          }
        }
      ]
    },
    {
      "cell_type": "code",
      "source": [
        "#Replacing with mean value since normally distributed\n",
        "train1['behaviour_rating']=train1['behaviour_rating'].fillna(train1['behaviour_rating'].mean())"
      ],
      "metadata": {
        "id": "5pfOwh0Mp1Ud"
      },
      "execution_count": null,
      "outputs": []
    },
    {
      "cell_type": "code",
      "source": [
        "plt.hist(train1['matches_played'])\n",
        "plt.show()"
      ],
      "metadata": {
        "colab": {
          "base_uri": "https://localhost:8080/",
          "height": 265
        },
        "id": "b1DOP6n_p70X",
        "outputId": "ace5025d-73f5-4c8c-9ea7-1773ec097026"
      },
      "execution_count": null,
      "outputs": [
        {
          "output_type": "display_data",
          "data": {
            "text/plain": [
              "<Figure size 432x288 with 1 Axes>"
            ],
            "image/png": "[encoded data removed]"
          },
          "metadata": {
            "needs_background": "light"
          }
        }
      ]
    },
    {
      "cell_type": "code",
      "source": [
        "#Replacing with median\n",
        "train1['matches_played']=train1['matches_played'].fillna(train1['matches_played'].median())"
      ],
      "metadata": {
        "id": "G-lhYPVEqRup"
      },
      "execution_count": null,
      "outputs": []
    },
    {
      "cell_type": "code",
      "source": [
        "plt.hist(train1['fitness_rating'])\n",
        "plt.show()"
      ],
      "metadata": {
        "colab": {
          "base_uri": "https://localhost:8080/",
          "height": 265
        },
        "id": "SdfnZNKxp9Ru",
        "outputId": "1b62a341-25ab-4005-8d30-1cf538dea362"
      },
      "execution_count": null,
      "outputs": [
        {
          "output_type": "display_data",
          "data": {
            "text/plain": [
              "<Figure size 432x288 with 1 Axes>"
            ],
            "image/png": "[encoded data removed]"
          },
          "metadata": {
            "needs_background": "light"
          }
        }
      ]
    },
    {
      "cell_type": "code",
      "source": [
        "#Replacing with median\n",
        "train1['fitness_rating']=train1['fitness_rating'].fillna(train1['fitness_rating'].median())"
      ],
      "metadata": {
        "id": "aqWj2P1kqYk4"
      },
      "execution_count": null,
      "outputs": []
    },
    {
      "cell_type": "code",
      "source": [
        "#Replacing with mode\n",
        "train1['coaching']=train1['coaching'].fillna(train1['coaching'].mode()[0])"
      ],
      "metadata": {
        "id": "cI0obYLyp9uH"
      },
      "execution_count": null,
      "outputs": []
    },
    {
      "cell_type": "code",
      "source": [
        "plt.hist(train1['years_of_experience'])\n",
        "plt.show()"
      ],
      "metadata": {
        "colab": {
          "base_uri": "https://localhost:8080/",
          "height": 265
        },
        "id": "Sozbh5S_qHTx",
        "outputId": "91c0e99e-6dd2-4eee-adcd-856444f81499"
      },
      "execution_count": null,
      "outputs": [
        {
          "output_type": "display_data",
          "data": {
            "text/plain": [
              "<Figure size 432x288 with 1 Axes>"
            ],
            "image/png": "[encoded data removed]"
          },
          "metadata": {
            "needs_background": "light"
          }
        }
      ]
    },
    {
      "cell_type": "code",
      "source": [
        "#Replacing with median\n",
        "train1['years_of_experience']=train1['years_of_experience'].fillna(train1['years_of_experience'].median())"
      ],
      "metadata": {
        "id": "4zR0QZK6qlsI"
      },
      "execution_count": null,
      "outputs": []
    },
    {
      "cell_type": "code",
      "source": [
        "train1.isna().sum()"
      ],
      "metadata": {
        "colab": {
          "base_uri": "https://localhost:8080/"
        },
        "id": "3CO9ByNQqmyH",
        "outputId": "44548bd3-5cb3-4c53-fe5c-3282d9168e8e"
      },
      "execution_count": null,
      "outputs": [
        {
          "output_type": "execute_result",
          "data": {
            "text/plain": [
              "player_id                    0\n",
              "age                          0\n",
              "gender                       0\n",
              "country                      0\n",
              "height                       0\n",
              "weight                       0\n",
              "ball_controlling_skills      0\n",
              "body_reflexes                0\n",
              "body_balance                 0\n",
              "jumping_skills               0\n",
              "penalties_conversion_rate    0\n",
              "mental_strength              0\n",
              "goalkeeping_skills           0\n",
              "defending_skills             0\n",
              "passing_skills               0\n",
              "dribbling_skills             0\n",
              "shot_accuracy                0\n",
              "body_strength_stamina        0\n",
              "max_running_speed            0\n",
              "strong_foot                  0\n",
              "behaviour_rating             0\n",
              "matches_played               0\n",
              "fitness_rating               0\n",
              "trophies_won                 0\n",
              "dedication_level             0\n",
              "coaching                     0\n",
              "years_of_experience          0\n",
              "no_of_disqualifications      0\n",
              "selection                    0\n",
              "dtype: int64"
            ]
          },
          "metadata": {},
          "execution_count": 42
        }
      ]
    },
    {
      "cell_type": "code",
      "source": [
        "#ENCODING\n",
        "train1.head()"
      ],
      "metadata": {
        "colab": {
          "base_uri": "https://localhost:8080/",
          "height": 317
        },
        "id": "7Zunky8FqoRV",
        "outputId": "f2be791c-a6d9-463c-cd0e-ea5a89f24b9a"
      },
      "execution_count": null,
      "outputs": [
        {
          "output_type": "execute_result",
          "data": {
            "text/plain": [
              "    player_id  age gender    country  height  weight  ball_controlling_skills  \\\n",
              "0   PLID_4964   23      M    Ukraine    6.20   176.0                     77.0   \n",
              "1  PLID_11234   18      M     Russia    5.10   148.0                     54.0   \n",
              "2  PLID_19127   16      F      Spain    6.20   172.0                     34.0   \n",
              "3  PLID_17467   27      M      Chile    5.11   165.0                     79.0   \n",
              "4   PLID_9661   19      F  Argentina    5.80   158.0                     47.0   \n",
              "\n",
              "   body_reflexes  body_balance  jumping_skills  ...  strong_foot  \\\n",
              "0           58.0          47.0            59.0  ...        Right   \n",
              "1           69.0          70.0            62.0  ...          Any   \n",
              "2           43.0          45.0            69.0  ...         Left   \n",
              "3           73.0          76.0            86.0  ...        Right   \n",
              "4           61.0          74.0            57.0  ...        Right   \n",
              "\n",
              "   behaviour_rating  matches_played  fitness_rating  trophies_won  \\\n",
              "0          7.700000             0.0             8.1           2.0   \n",
              "1          5.300000             0.0             6.8           3.0   \n",
              "2          4.700000             0.0             6.6           5.0   \n",
              "3          8.600000           113.0             8.6           6.0   \n",
              "4          5.822068             0.0             5.7           5.0   \n",
              "\n",
              "   dedication_level     coaching  years_of_experience  \\\n",
              "0              High  Talent Hunt                  8.0   \n",
              "1            Medium       Source                  3.0   \n",
              "2               Low      Academy                  2.0   \n",
              "3            Medium      Academy                 13.0   \n",
              "4            Medium      Academy                  4.0   \n",
              "\n",
              "   no_of_disqualifications selection  \n",
              "0                      0.0         1  \n",
              "1                      0.0         0  \n",
              "2                      0.0         1  \n",
              "3                     16.0         1  \n",
              "4                      0.0         0  \n",
              "\n",
              "[5 rows x 29 columns]"
            ],
            "text/html": [
              "\n",
              "  <div id=\"df-a48b84a4-60db-4ac2-a0c0-3ba1a1b7dc93\">\n",
              "    <div class=\"colab-df-container\">\n",
              "      <div>\n",
              "<style scoped>\n",
              "    .dataframe tbody tr th:only-of-type {\n",
              "        vertical-align: middle;\n",
              "    }\n",
              "\n",
              "    .dataframe tbody tr th {\n",
              "        vertical-align: top;\n",
              "    }\n",
              "\n",
              "    .dataframe thead th {\n",
              "        text-align: right;\n",
              "    }\n",
              "</style>\n",
              "<table border=\"1\" class=\"dataframe\">\n",
              "  <thead>\n",
              "    <tr style=\"text-align: right;\">\n",
              "      <th></th>\n",
              "      <th>player_id</th>\n",
              "      <th>age</th>\n",
              "      <th>gender</th>\n",
              "      <th>country</th>\n",
              "      <th>height</th>\n",
              "      <th>weight</th>\n",
              "      <th>ball_controlling_skills</th>\n",
              "      <th>body_reflexes</th>\n",
              "      <th>body_balance</th>\n",
              "      <th>jumping_skills</th>\n",
              "      <th>...</th>\n",
              "      <th>strong_foot</th>\n",
              "      <th>behaviour_rating</th>\n",
              "      <th>matches_played</th>\n",
              "      <th>fitness_rating</th>\n",
              "      <th>trophies_won</th>\n",
              "      <th>dedication_level</th>\n",
              "      <th>coaching</th>\n",
              "      <th>years_of_experience</th>\n",
              "      <th>no_of_disqualifications</th>\n",
              "      <th>selection</th>\n",
              "    </tr>\n",
              "  </thead>\n",
              "  <tbody>\n",
              "    <tr>\n",
              "      <th>0</th>\n",
              "      <td>PLID_4964</td>\n",
              "      <td>23</td>\n",
              "      <td>M</td>\n",
              "      <td>Ukraine</td>\n",
              "      <td>6.20</td>\n",
              "      <td>176.0</td>\n",
              "      <td>77.0</td>\n",
              "      <td>58.0</td>\n",
              "      <td>47.0</td>\n",
              "      <td>59.0</td>\n",
              "      <td>...</td>\n",
              "      <td>Right</td>\n",
              "      <td>7.700000</td>\n",
              "      <td>0.0</td>\n",
              "      <td>8.1</td>\n",
              "      <td>2.0</td>\n",
              "      <td>High</td>\n",
              "      <td>Talent Hunt</td>\n",
              "      <td>8.0</td>\n",
              "      <td>0.0</td>\n",
              "      <td>1</td>\n",
              "    </tr>\n",
              "    <tr>\n",
              "      <th>1</th>\n",
              "      <td>PLID_11234</td>\n",
              "      <td>18</td>\n",
              "      <td>M</td>\n",
              "      <td>Russia</td>\n",
              "      <td>5.10</td>\n",
              "      <td>148.0</td>\n",
              "      <td>54.0</td>\n",
              "      <td>69.0</td>\n",
              "      <td>70.0</td>\n",
              "      <td>62.0</td>\n",
              "      <td>...</td>\n",
              "      <td>Any</td>\n",
              "      <td>5.300000</td>\n",
              "      <td>0.0</td>\n",
              "      <td>6.8</td>\n",
              "      <td>3.0</td>\n",
              "      <td>Medium</td>\n",
              "      <td>Source</td>\n",
              "      <td>3.0</td>\n",
              "      <td>0.0</td>\n",
              "      <td>0</td>\n",
              "    </tr>\n",
              "    <tr>\n",
              "      <th>2</th>\n",
              "      <td>PLID_19127</td>\n",
              "      <td>16</td>\n",
              "      <td>F</td>\n",
              "      <td>Spain</td>\n",
              "      <td>6.20</td>\n",
              "      <td>172.0</td>\n",
              "      <td>34.0</td>\n",
              "      <td>43.0</td>\n",
              "      <td>45.0</td>\n",
              "      <td>69.0</td>\n",
              "      <td>...</td>\n",
              "      <td>Left</td>\n",
              "      <td>4.700000</td>\n",
              "      <td>0.0</td>\n",
              "      <td>6.6</td>\n",
              "      <td>5.0</td>\n",
              "      <td>Low</td>\n",
              "      <td>Academy</td>\n",
              "      <td>2.0</td>\n",
              "      <td>0.0</td>\n",
              "      <td>1</td>\n",
              "    </tr>\n",
              "    <tr>\n",
              "      <th>3</th>\n",
              "      <td>PLID_17467</td>\n",
              "      <td>27</td>\n",
              "      <td>M</td>\n",
              "      <td>Chile</td>\n",
              "      <td>5.11</td>\n",
              "      <td>165.0</td>\n",
              "      <td>79.0</td>\n",
              "      <td>73.0</td>\n",
              "      <td>76.0</td>\n",
              "      <td>86.0</td>\n",
              "      <td>...</td>\n",
              "      <td>Right</td>\n",
              "      <td>8.600000</td>\n",
              "      <td>113.0</td>\n",
              "      <td>8.6</td>\n",
              "      <td>6.0</td>\n",
              "      <td>Medium</td>\n",
              "      <td>Academy</td>\n",
              "      <td>13.0</td>\n",
              "      <td>16.0</td>\n",
              "      <td>1</td>\n",
              "    </tr>\n",
              "    <tr>\n",
              "      <th>4</th>\n",
              "      <td>PLID_9661</td>\n",
              "      <td>19</td>\n",
              "      <td>F</td>\n",
              "      <td>Argentina</td>\n",
              "      <td>5.80</td>\n",
              "      <td>158.0</td>\n",
              "      <td>47.0</td>\n",
              "      <td>61.0</td>\n",
              "      <td>74.0</td>\n",
              "      <td>57.0</td>\n",
              "      <td>...</td>\n",
              "      <td>Right</td>\n",
              "      <td>5.822068</td>\n",
              "      <td>0.0</td>\n",
              "      <td>5.7</td>\n",
              "      <td>5.0</td>\n",
              "      <td>Medium</td>\n",
              "      <td>Academy</td>\n",
              "      <td>4.0</td>\n",
              "      <td>0.0</td>\n",
              "      <td>0</td>\n",
              "    </tr>\n",
              "  </tbody>\n",
              "</table>\n",
              "<p>5 rows × 29 columns</p>\n",
              "</div>\n",
              "      <button class=\"colab-df-convert\" onclick=\"convertToInteractive('df-a48b84a4-60db-4ac2-a0c0-3ba1a1b7dc93')\"\n",
              "              title=\"Convert this dataframe to an interactive table.\"\n",
              "              style=\"display:none;\">\n",
              "        \n",
              "  <svg xmlns=\"http://www.w3.org/2000/svg\" height=\"24px\"viewBox=\"0 0 24 24\"\n",
              "       width=\"24px\">\n",
              "    <path d=\"M0 0h24v24H0V0z\" fill=\"none\"/>\n",
              "    <path d=\"M18.56 5.44l.94 2.06.94-2.06 2.06-.94-2.06-.94-.94-2.06-.94 2.06-2.06.94zm-11 1L8.5 8.5l.94-2.06 2.06-.94-2.06-.94L8.5 2.5l-.94 2.06-2.06.94zm10 10l.94 2.06.94-2.06 2.06-.94-2.06-.94-.94-2.06-.94 2.06-2.06.94z\"/><path d=\"M17.41 7.96l-1.37-1.37c-.4-.4-.92-.59-1.43-.59-.52 0-1.04.2-1.43.59L10.3 9.45l-7.72 7.72c-.78.78-.78 2.05 0 2.83L4 21.41c.39.39.9.59 1.41.59.51 0 1.02-.2 1.41-.59l7.78-7.78 2.81-2.81c.8-.78.8-2.07 0-2.86zM5.41 20L4 18.59l7.72-7.72 1.47 1.35L5.41 20z\"/>\n",
              "  </svg>\n",
              "      </button>\n",
              "      \n",
              "  <style>\n",
              "    .colab-df-container {\n",
              "      display:flex;\n",
              "      flex-wrap:wrap;\n",
              "      gap: 12px;\n",
              "    }\n",
              "\n",
              "    .colab-df-convert {\n",
              "      background-color: #E8F0FE;\n",
              "      border: none;\n",
              "      border-radius: 50%;\n",
              "      cursor: pointer;\n",
              "      display: none;\n",
              "      fill: #1967D2;\n",
              "      height: 32px;\n",
              "      padding: 0 0 0 0;\n",
              "      width: 32px;\n",
              "    }\n",
              "\n",
              "    .colab-df-convert:hover {\n",
              "      background-color: #E2EBFA;\n",
              "      box-shadow: 0px 1px 2px rgba(60, 64, 67, 0.3), 0px 1px 3px 1px rgba(60, 64, 67, 0.15);\n",
              "      fill: #174EA6;\n",
              "    }\n",
              "\n",
              "    [theme=dark] .colab-df-convert {\n",
              "      background-color: #3B4455;\n",
              "      fill: #D2E3FC;\n",
              "    }\n",
              "\n",
              "    [theme=dark] .colab-df-convert:hover {\n",
              "      background-color: #434B5C;\n",
              "      box-shadow: 0px 1px 3px 1px rgba(0, 0, 0, 0.15);\n",
              "      filter: drop-shadow(0px 1px 2px rgba(0, 0, 0, 0.3));\n",
              "      fill: #FFFFFF;\n",
              "    }\n",
              "  </style>\n",
              "\n",
              "      <script>\n",
              "        const buttonEl =\n",
              "          document.querySelector('#df-a48b84a4-60db-4ac2-a0c0-3ba1a1b7dc93 button.colab-df-convert');\n",
              "        buttonEl.style.display =\n",
              "          google.colab.kernel.accessAllowed ? 'block' : 'none';\n",
              "\n",
              "        async function convertToInteractive(key) {\n",
              "          const element = document.querySelector('#df-a48b84a4-60db-4ac2-a0c0-3ba1a1b7dc93');\n",
              "          const dataTable =\n",
              "            await google.colab.kernel.invokeFunction('convertToInteractive',\n",
              "                                                     [key], {});\n",
              "          if (!dataTable) return;\n",
              "\n",
              "          const docLinkHtml = 'Like what you see? Visit the ' +\n",
              "            '<a target=\"_blank\" href=https://colab.research.google.com/notebooks/data_table.ipynb>data table notebook</a>'\n",
              "            + ' to learn more about interactive tables.';\n",
              "          element.innerHTML = '';\n",
              "          dataTable['output_type'] = 'display_data';\n",
              "          await google.colab.output.renderOutput(dataTable, element);\n",
              "          const docLink = document.createElement('div');\n",
              "          docLink.innerHTML = docLinkHtml;\n",
              "          element.appendChild(docLink);\n",
              "        }\n",
              "      </script>\n",
              "    </div>\n",
              "  </div>\n",
              "  "
            ]
          },
          "metadata": {},
          "execution_count": 43
        }
      ]
    },
    {
      "cell_type": "code",
      "source": [
        "train1.dtypes"
      ],
      "metadata": {
        "colab": {
          "base_uri": "https://localhost:8080/"
        },
        "id": "nGp1ddUvq4be",
        "outputId": "f5a963f3-0bd4-4ead-ba99-c6a1d712d376"
      },
      "execution_count": null,
      "outputs": [
        {
          "output_type": "execute_result",
          "data": {
            "text/plain": [
              "player_id                     object\n",
              "age                            int64\n",
              "gender                        object\n",
              "country                       object\n",
              "height                       float64\n",
              "weight                       float64\n",
              "ball_controlling_skills      float64\n",
              "body_reflexes                float64\n",
              "body_balance                 float64\n",
              "jumping_skills               float64\n",
              "penalties_conversion_rate    float64\n",
              "mental_strength              float64\n",
              "goalkeeping_skills           float64\n",
              "defending_skills             float64\n",
              "passing_skills               float64\n",
              "dribbling_skills             float64\n",
              "shot_accuracy                float64\n",
              "body_strength_stamina        float64\n",
              "max_running_speed            float64\n",
              "strong_foot                   object\n",
              "behaviour_rating             float64\n",
              "matches_played               float64\n",
              "fitness_rating               float64\n",
              "trophies_won                 float64\n",
              "dedication_level              object\n",
              "coaching                      object\n",
              "years_of_experience          float64\n",
              "no_of_disqualifications      float64\n",
              "selection                      int64\n",
              "dtype: object"
            ]
          },
          "metadata": {},
          "execution_count": 44
        }
      ]
    },
    {
      "cell_type": "code",
      "source": [
        "train1['gender'].unique()"
      ],
      "metadata": {
        "colab": {
          "base_uri": "https://localhost:8080/"
        },
        "id": "Plv4sBXsq7JW",
        "outputId": "13c44dd4-d3db-4643-fcdf-9088baf3394b"
      },
      "execution_count": null,
      "outputs": [
        {
          "output_type": "execute_result",
          "data": {
            "text/plain": [
              "array(['M', 'F'], dtype=object)"
            ]
          },
          "metadata": {},
          "execution_count": 45
        }
      ]
    },
    {
      "cell_type": "code",
      "source": [
        "#Formatting player id column\n",
        "train1['player_id']=train1['player_id'].str.replace(\"PLID_\",'')"
      ],
      "metadata": {
        "id": "hdS8AFKcrF43"
      },
      "execution_count": null,
      "outputs": []
    },
    {
      "cell_type": "code",
      "source": [
        "train1['player_id']=train1['player_id'].astype(int)"
      ],
      "metadata": {
        "id": "r2MlpPYBrk6F"
      },
      "execution_count": null,
      "outputs": []
    },
    {
      "cell_type": "code",
      "source": [
        "from sklearn import preprocessing\n",
        "from sklearn.preprocessing import LabelEncoder\n",
        "le=LabelEncoder()"
      ],
      "metadata": {
        "id": "bWbwN8C-rnr3"
      },
      "execution_count": null,
      "outputs": []
    },
    {
      "cell_type": "code",
      "source": [
        "train1['country']=le.fit_transform(train1['country'])"
      ],
      "metadata": {
        "id": "SPe7lJdYr94R"
      },
      "execution_count": null,
      "outputs": []
    },
    {
      "cell_type": "code",
      "source": [],
      "metadata": {
        "id": "JgqywdYv1mH8"
      },
      "execution_count": null,
      "outputs": []
    },
    {
      "cell_type": "code",
      "source": [
        "train1['strong_foot'].unique()"
      ],
      "metadata": {
        "colab": {
          "base_uri": "https://localhost:8080/"
        },
        "id": "Xg_JK0O5sJao",
        "outputId": "96180066-80a3-4be8-8e85-0e91b8d20490"
      },
      "execution_count": null,
      "outputs": [
        {
          "output_type": "execute_result",
          "data": {
            "text/plain": [
              "array(['Right', 'Any', 'Left', 'None'], dtype=object)"
            ]
          },
          "metadata": {},
          "execution_count": 50
        }
      ]
    },
    {
      "cell_type": "code",
      "source": [
        "train1['strong_foot']=le.fit_transform(train1['strong_foot'])"
      ],
      "metadata": {
        "id": "A1LKQuPAsP1g"
      },
      "execution_count": null,
      "outputs": []
    },
    {
      "cell_type": "code",
      "source": [
        "train1['dedication_level'].unique()\n"
      ],
      "metadata": {
        "colab": {
          "base_uri": "https://localhost:8080/"
        },
        "id": "g6EsGUHHsSp4",
        "outputId": "85079730-51f1-40c8-9e0c-25f3794662cc"
      },
      "execution_count": null,
      "outputs": [
        {
          "output_type": "execute_result",
          "data": {
            "text/plain": [
              "array(['High', 'Medium', 'Low'], dtype=object)"
            ]
          },
          "metadata": {},
          "execution_count": 52
        }
      ]
    },
    {
      "cell_type": "code",
      "source": [
        "train1['dedication_level']=le.fit_transform(train1['dedication_level'])"
      ],
      "metadata": {
        "id": "e_iv-XpFsdKI"
      },
      "execution_count": null,
      "outputs": []
    },
    {
      "cell_type": "code",
      "source": [
        "train1['coaching'].unique()"
      ],
      "metadata": {
        "colab": {
          "base_uri": "https://localhost:8080/"
        },
        "id": "JztmxL1esaZZ",
        "outputId": "aaafea88-e364-4ed9-8b28-94986bf13c8d"
      },
      "execution_count": null,
      "outputs": [
        {
          "output_type": "execute_result",
          "data": {
            "text/plain": [
              "array(['Talent Hunt', 'Source', 'Academy', 'Unknown'], dtype=object)"
            ]
          },
          "metadata": {},
          "execution_count": 54
        }
      ]
    },
    {
      "cell_type": "code",
      "source": [
        "train1['coaching']=le.fit_transform(train1['coaching'])"
      ],
      "metadata": {
        "id": "GfX2j6C8sgpZ"
      },
      "execution_count": null,
      "outputs": []
    },
    {
      "cell_type": "code",
      "source": [
        "train1.head()"
      ],
      "metadata": {
        "colab": {
          "base_uri": "https://localhost:8080/",
          "height": 299
        },
        "id": "3efKYisiskhz",
        "outputId": "66900839-4706-4a5c-b7c8-8a2cd645778d"
      },
      "execution_count": null,
      "outputs": [
        {
          "output_type": "execute_result",
          "data": {
            "text/plain": [
              "   player_id  age gender  country  height  weight  ball_controlling_skills  \\\n",
              "0       4964   23      M      153    6.20   176.0                     77.0   \n",
              "1      11234   18      M      124    5.10   148.0                     54.0   \n",
              "2      19127   16      F      135    6.20   172.0                     34.0   \n",
              "3      17467   27      M       28    5.11   165.0                     79.0   \n",
              "4       9661   19      F        5    5.80   158.0                     47.0   \n",
              "\n",
              "   body_reflexes  body_balance  jumping_skills  ...  strong_foot  \\\n",
              "0           58.0          47.0            59.0  ...            3   \n",
              "1           69.0          70.0            62.0  ...            0   \n",
              "2           43.0          45.0            69.0  ...            1   \n",
              "3           73.0          76.0            86.0  ...            3   \n",
              "4           61.0          74.0            57.0  ...            3   \n",
              "\n",
              "   behaviour_rating  matches_played  fitness_rating  trophies_won  \\\n",
              "0          7.700000             0.0             8.1           2.0   \n",
              "1          5.300000             0.0             6.8           3.0   \n",
              "2          4.700000             0.0             6.6           5.0   \n",
              "3          8.600000           113.0             8.6           6.0   \n",
              "4          5.822068             0.0             5.7           5.0   \n",
              "\n",
              "   dedication_level  coaching  years_of_experience  no_of_disqualifications  \\\n",
              "0                 0         2                  8.0                      0.0   \n",
              "1                 2         1                  3.0                      0.0   \n",
              "2                 1         0                  2.0                      0.0   \n",
              "3                 2         0                 13.0                     16.0   \n",
              "4                 2         0                  4.0                      0.0   \n",
              "\n",
              "   selection  \n",
              "0          1  \n",
              "1          0  \n",
              "2          1  \n",
              "3          1  \n",
              "4          0  \n",
              "\n",
              "[5 rows x 29 columns]"
            ],
            "text/html": [
              "\n",
              "  <div id=\"df-5613dc3d-4765-442a-9630-1fded10add12\">\n",
              "    <div class=\"colab-df-container\">\n",
              "      <div>\n",
              "<style scoped>\n",
              "    .dataframe tbody tr th:only-of-type {\n",
              "        vertical-align: middle;\n",
              "    }\n",
              "\n",
              "    .dataframe tbody tr th {\n",
              "        vertical-align: top;\n",
              "    }\n",
              "\n",
              "    .dataframe thead th {\n",
              "        text-align: right;\n",
              "    }\n",
              "</style>\n",
              "<table border=\"1\" class=\"dataframe\">\n",
              "  <thead>\n",
              "    <tr style=\"text-align: right;\">\n",
              "      <th></th>\n",
              "      <th>player_id</th>\n",
              "      <th>age</th>\n",
              "      <th>gender</th>\n",
              "      <th>country</th>\n",
              "      <th>height</th>\n",
              "      <th>weight</th>\n",
              "      <th>ball_controlling_skills</th>\n",
              "      <th>body_reflexes</th>\n",
              "      <th>body_balance</th>\n",
              "      <th>jumping_skills</th>\n",
              "      <th>...</th>\n",
              "      <th>strong_foot</th>\n",
              "      <th>behaviour_rating</th>\n",
              "      <th>matches_played</th>\n",
              "      <th>fitness_rating</th>\n",
              "      <th>trophies_won</th>\n",
              "      <th>dedication_level</th>\n",
              "      <th>coaching</th>\n",
              "      <th>years_of_experience</th>\n",
              "      <th>no_of_disqualifications</th>\n",
              "      <th>selection</th>\n",
              "    </tr>\n",
              "  </thead>\n",
              "  <tbody>\n",
              "    <tr>\n",
              "      <th>0</th>\n",
              "      <td>4964</td>\n",
              "      <td>23</td>\n",
              "      <td>M</td>\n",
              "      <td>153</td>\n",
              "      <td>6.20</td>\n",
              "      <td>176.0</td>\n",
              "      <td>77.0</td>\n",
              "      <td>58.0</td>\n",
              "      <td>47.0</td>\n",
              "      <td>59.0</td>\n",
              "      <td>...</td>\n",
              "      <td>3</td>\n",
              "      <td>7.700000</td>\n",
              "      <td>0.0</td>\n",
              "      <td>8.1</td>\n",
              "      <td>2.0</td>\n",
              "      <td>0</td>\n",
              "      <td>2</td>\n",
              "      <td>8.0</td>\n",
              "      <td>0.0</td>\n",
              "      <td>1</td>\n",
              "    </tr>\n",
              "    <tr>\n",
              "      <th>1</th>\n",
              "      <td>11234</td>\n",
              "      <td>18</td>\n",
              "      <td>M</td>\n",
              "      <td>124</td>\n",
              "      <td>5.10</td>\n",
              "      <td>148.0</td>\n",
              "      <td>54.0</td>\n",
              "      <td>69.0</td>\n",
              "      <td>70.0</td>\n",
              "      <td>62.0</td>\n",
              "      <td>...</td>\n",
              "      <td>0</td>\n",
              "      <td>5.300000</td>\n",
              "      <td>0.0</td>\n",
              "      <td>6.8</td>\n",
              "      <td>3.0</td>\n",
              "      <td>2</td>\n",
              "      <td>1</td>\n",
              "      <td>3.0</td>\n",
              "      <td>0.0</td>\n",
              "      <td>0</td>\n",
              "    </tr>\n",
              "    <tr>\n",
              "      <th>2</th>\n",
              "      <td>19127</td>\n",
              "      <td>16</td>\n",
              "      <td>F</td>\n",
              "      <td>135</td>\n",
              "      <td>6.20</td>\n",
              "      <td>172.0</td>\n",
              "      <td>34.0</td>\n",
              "      <td>43.0</td>\n",
              "      <td>45.0</td>\n",
              "      <td>69.0</td>\n",
              "      <td>...</td>\n",
              "      <td>1</td>\n",
              "      <td>4.700000</td>\n",
              "      <td>0.0</td>\n",
              "      <td>6.6</td>\n",
              "      <td>5.0</td>\n",
              "      <td>1</td>\n",
              "      <td>0</td>\n",
              "      <td>2.0</td>\n",
              "      <td>0.0</td>\n",
              "      <td>1</td>\n",
              "    </tr>\n",
              "    <tr>\n",
              "      <th>3</th>\n",
              "      <td>17467</td>\n",
              "      <td>27</td>\n",
              "      <td>M</td>\n",
              "      <td>28</td>\n",
              "      <td>5.11</td>\n",
              "      <td>165.0</td>\n",
              "      <td>79.0</td>\n",
              "      <td>73.0</td>\n",
              "      <td>76.0</td>\n",
              "      <td>86.0</td>\n",
              "      <td>...</td>\n",
              "      <td>3</td>\n",
              "      <td>8.600000</td>\n",
              "      <td>113.0</td>\n",
              "      <td>8.6</td>\n",
              "      <td>6.0</td>\n",
              "      <td>2</td>\n",
              "      <td>0</td>\n",
              "      <td>13.0</td>\n",
              "      <td>16.0</td>\n",
              "      <td>1</td>\n",
              "    </tr>\n",
              "    <tr>\n",
              "      <th>4</th>\n",
              "      <td>9661</td>\n",
              "      <td>19</td>\n",
              "      <td>F</td>\n",
              "      <td>5</td>\n",
              "      <td>5.80</td>\n",
              "      <td>158.0</td>\n",
              "      <td>47.0</td>\n",
              "      <td>61.0</td>\n",
              "      <td>74.0</td>\n",
              "      <td>57.0</td>\n",
              "      <td>...</td>\n",
              "      <td>3</td>\n",
              "      <td>5.822068</td>\n",
              "      <td>0.0</td>\n",
              "      <td>5.7</td>\n",
              "      <td>5.0</td>\n",
              "      <td>2</td>\n",
              "      <td>0</td>\n",
              "      <td>4.0</td>\n",
              "      <td>0.0</td>\n",
              "      <td>0</td>\n",
              "    </tr>\n",
              "  </tbody>\n",
              "</table>\n",
              "<p>5 rows × 29 columns</p>\n",
              "</div>\n",
              "      <button class=\"colab-df-convert\" onclick=\"convertToInteractive('df-5613dc3d-4765-442a-9630-1fded10add12')\"\n",
              "              title=\"Convert this dataframe to an interactive table.\"\n",
              "              style=\"display:none;\">\n",
              "        \n",
              "  <svg xmlns=\"http://www.w3.org/2000/svg\" height=\"24px\"viewBox=\"0 0 24 24\"\n",
              "       width=\"24px\">\n",
              "    <path d=\"M0 0h24v24H0V0z\" fill=\"none\"/>\n",
              "    <path d=\"M18.56 5.44l.94 2.06.94-2.06 2.06-.94-2.06-.94-.94-2.06-.94 2.06-2.06.94zm-11 1L8.5 8.5l.94-2.06 2.06-.94-2.06-.94L8.5 2.5l-.94 2.06-2.06.94zm10 10l.94 2.06.94-2.06 2.06-.94-2.06-.94-.94-2.06-.94 2.06-2.06.94z\"/><path d=\"M17.41 7.96l-1.37-1.37c-.4-.4-.92-.59-1.43-.59-.52 0-1.04.2-1.43.59L10.3 9.45l-7.72 7.72c-.78.78-.78 2.05 0 2.83L4 21.41c.39.39.9.59 1.41.59.51 0 1.02-.2 1.41-.59l7.78-7.78 2.81-2.81c.8-.78.8-2.07 0-2.86zM5.41 20L4 18.59l7.72-7.72 1.47 1.35L5.41 20z\"/>\n",
              "  </svg>\n",
              "      </button>\n",
              "      \n",
              "  <style>\n",
              "    .colab-df-container {\n",
              "      display:flex;\n",
              "      flex-wrap:wrap;\n",
              "      gap: 12px;\n",
              "    }\n",
              "\n",
              "    .colab-df-convert {\n",
              "      background-color: #E8F0FE;\n",
              "      border: none;\n",
              "      border-radius: 50%;\n",
              "      cursor: pointer;\n",
              "      display: none;\n",
              "      fill: #1967D2;\n",
              "      height: 32px;\n",
              "      padding: 0 0 0 0;\n",
              "      width: 32px;\n",
              "    }\n",
              "\n",
              "    .colab-df-convert:hover {\n",
              "      background-color: #E2EBFA;\n",
              "      box-shadow: 0px 1px 2px rgba(60, 64, 67, 0.3), 0px 1px 3px 1px rgba(60, 64, 67, 0.15);\n",
              "      fill: #174EA6;\n",
              "    }\n",
              "\n",
              "    [theme=dark] .colab-df-convert {\n",
              "      background-color: #3B4455;\n",
              "      fill: #D2E3FC;\n",
              "    }\n",
              "\n",
              "    [theme=dark] .colab-df-convert:hover {\n",
              "      background-color: #434B5C;\n",
              "      box-shadow: 0px 1px 3px 1px rgba(0, 0, 0, 0.15);\n",
              "      filter: drop-shadow(0px 1px 2px rgba(0, 0, 0, 0.3));\n",
              "      fill: #FFFFFF;\n",
              "    }\n",
              "  </style>\n",
              "\n",
              "      <script>\n",
              "        const buttonEl =\n",
              "          document.querySelector('#df-5613dc3d-4765-442a-9630-1fded10add12 button.colab-df-convert');\n",
              "        buttonEl.style.display =\n",
              "          google.colab.kernel.accessAllowed ? 'block' : 'none';\n",
              "\n",
              "        async function convertToInteractive(key) {\n",
              "          const element = document.querySelector('#df-5613dc3d-4765-442a-9630-1fded10add12');\n",
              "          const dataTable =\n",
              "            await google.colab.kernel.invokeFunction('convertToInteractive',\n",
              "                                                     [key], {});\n",
              "          if (!dataTable) return;\n",
              "\n",
              "          const docLinkHtml = 'Like what you see? Visit the ' +\n",
              "            '<a target=\"_blank\" href=https://colab.research.google.com/notebooks/data_table.ipynb>data table notebook</a>'\n",
              "            + ' to learn more about interactive tables.';\n",
              "          element.innerHTML = '';\n",
              "          dataTable['output_type'] = 'display_data';\n",
              "          await google.colab.output.renderOutput(dataTable, element);\n",
              "          const docLink = document.createElement('div');\n",
              "          docLink.innerHTML = docLinkHtml;\n",
              "          element.appendChild(docLink);\n",
              "        }\n",
              "      </script>\n",
              "    </div>\n",
              "  </div>\n",
              "  "
            ]
          },
          "metadata": {},
          "execution_count": 56
        }
      ]
    },
    {
      "cell_type": "code",
      "source": [
        "#One hot encoding gender\n",
        "train1=pd.get_dummies(train1)"
      ],
      "metadata": {
        "id": "AjeCgsggslmg"
      },
      "execution_count": null,
      "outputs": []
    },
    {
      "cell_type": "code",
      "source": [
        "train1.head()"
      ],
      "metadata": {
        "colab": {
          "base_uri": "https://localhost:8080/",
          "height": 299
        },
        "id": "PHo-MYhrs3XB",
        "outputId": "b377a8bd-943e-4d46-f2b9-8e7e38df4d62"
      },
      "execution_count": null,
      "outputs": [
        {
          "output_type": "execute_result",
          "data": {
            "text/plain": [
              "   player_id  age  country  height  weight  ball_controlling_skills  \\\n",
              "0       4964   23      153    6.20   176.0                     77.0   \n",
              "1      11234   18      124    5.10   148.0                     54.0   \n",
              "2      19127   16      135    6.20   172.0                     34.0   \n",
              "3      17467   27       28    5.11   165.0                     79.0   \n",
              "4       9661   19        5    5.80   158.0                     47.0   \n",
              "\n",
              "   body_reflexes  body_balance  jumping_skills  penalties_conversion_rate  \\\n",
              "0           58.0          47.0            59.0                       41.0   \n",
              "1           69.0          70.0            62.0                       53.0   \n",
              "2           43.0          45.0            69.0                       49.0   \n",
              "3           73.0          76.0            86.0                       81.0   \n",
              "4           61.0          74.0            57.0                       49.0   \n",
              "\n",
              "   ...  matches_played  fitness_rating  trophies_won  dedication_level  \\\n",
              "0  ...             0.0             8.1           2.0                 0   \n",
              "1  ...             0.0             6.8           3.0                 2   \n",
              "2  ...             0.0             6.6           5.0                 1   \n",
              "3  ...           113.0             8.6           6.0                 2   \n",
              "4  ...             0.0             5.7           5.0                 2   \n",
              "\n",
              "   coaching  years_of_experience  no_of_disqualifications  selection  \\\n",
              "0         2                  8.0                      0.0          1   \n",
              "1         1                  3.0                      0.0          0   \n",
              "2         0                  2.0                      0.0          1   \n",
              "3         0                 13.0                     16.0          1   \n",
              "4         0                  4.0                      0.0          0   \n",
              "\n",
              "   gender_F  gender_M  \n",
              "0         0         1  \n",
              "1         0         1  \n",
              "2         1         0  \n",
              "3         0         1  \n",
              "4         1         0  \n",
              "\n",
              "[5 rows x 30 columns]"
            ],
            "text/html": [
              "\n",
              "  <div id=\"df-b656e927-b1ad-4ea6-94ad-bb8e5691f90b\">\n",
              "    <div class=\"colab-df-container\">\n",
              "      <div>\n",
              "<style scoped>\n",
              "    .dataframe tbody tr th:only-of-type {\n",
              "        vertical-align: middle;\n",
              "    }\n",
              "\n",
              "    .dataframe tbody tr th {\n",
              "        vertical-align: top;\n",
              "    }\n",
              "\n",
              "    .dataframe thead th {\n",
              "        text-align: right;\n",
              "    }\n",
              "</style>\n",
              "<table border=\"1\" class=\"dataframe\">\n",
              "  <thead>\n",
              "    <tr style=\"text-align: right;\">\n",
              "      <th></th>\n",
              "      <th>player_id</th>\n",
              "      <th>age</th>\n",
              "      <th>country</th>\n",
              "      <th>height</th>\n",
              "      <th>weight</th>\n",
              "      <th>ball_controlling_skills</th>\n",
              "      <th>body_reflexes</th>\n",
              "      <th>body_balance</th>\n",
              "      <th>jumping_skills</th>\n",
              "      <th>penalties_conversion_rate</th>\n",
              "      <th>...</th>\n",
              "      <th>matches_played</th>\n",
              "      <th>fitness_rating</th>\n",
              "      <th>trophies_won</th>\n",
              "      <th>dedication_level</th>\n",
              "      <th>coaching</th>\n",
              "      <th>years_of_experience</th>\n",
              "      <th>no_of_disqualifications</th>\n",
              "      <th>selection</th>\n",
              "      <th>gender_F</th>\n",
              "      <th>gender_M</th>\n",
              "    </tr>\n",
              "  </thead>\n",
              "  <tbody>\n",
              "    <tr>\n",
              "      <th>0</th>\n",
              "      <td>4964</td>\n",
              "      <td>23</td>\n",
              "      <td>153</td>\n",
              "      <td>6.20</td>\n",
              "      <td>176.0</td>\n",
              "      <td>77.0</td>\n",
              "      <td>58.0</td>\n",
              "      <td>47.0</td>\n",
              "      <td>59.0</td>\n",
              "      <td>41.0</td>\n",
              "      <td>...</td>\n",
              "      <td>0.0</td>\n",
              "      <td>8.1</td>\n",
              "      <td>2.0</td>\n",
              "      <td>0</td>\n",
              "      <td>2</td>\n",
              "      <td>8.0</td>\n",
              "      <td>0.0</td>\n",
              "      <td>1</td>\n",
              "      <td>0</td>\n",
              "      <td>1</td>\n",
              "    </tr>\n",
              "    <tr>\n",
              "      <th>1</th>\n",
              "      <td>11234</td>\n",
              "      <td>18</td>\n",
              "      <td>124</td>\n",
              "      <td>5.10</td>\n",
              "      <td>148.0</td>\n",
              "      <td>54.0</td>\n",
              "      <td>69.0</td>\n",
              "      <td>70.0</td>\n",
              "      <td>62.0</td>\n",
              "      <td>53.0</td>\n",
              "      <td>...</td>\n",
              "      <td>0.0</td>\n",
              "      <td>6.8</td>\n",
              "      <td>3.0</td>\n",
              "      <td>2</td>\n",
              "      <td>1</td>\n",
              "      <td>3.0</td>\n",
              "      <td>0.0</td>\n",
              "      <td>0</td>\n",
              "      <td>0</td>\n",
              "      <td>1</td>\n",
              "    </tr>\n",
              "    <tr>\n",
              "      <th>2</th>\n",
              "      <td>19127</td>\n",
              "      <td>16</td>\n",
              "      <td>135</td>\n",
              "      <td>6.20</td>\n",
              "      <td>172.0</td>\n",
              "      <td>34.0</td>\n",
              "      <td>43.0</td>\n",
              "      <td>45.0</td>\n",
              "      <td>69.0</td>\n",
              "      <td>49.0</td>\n",
              "      <td>...</td>\n",
              "      <td>0.0</td>\n",
              "      <td>6.6</td>\n",
              "      <td>5.0</td>\n",
              "      <td>1</td>\n",
              "      <td>0</td>\n",
              "      <td>2.0</td>\n",
              "      <td>0.0</td>\n",
              "      <td>1</td>\n",
              "      <td>1</td>\n",
              "      <td>0</td>\n",
              "    </tr>\n",
              "    <tr>\n",
              "      <th>3</th>\n",
              "      <td>17467</td>\n",
              "      <td>27</td>\n",
              "      <td>28</td>\n",
              "      <td>5.11</td>\n",
              "      <td>165.0</td>\n",
              "      <td>79.0</td>\n",
              "      <td>73.0</td>\n",
              "      <td>76.0</td>\n",
              "      <td>86.0</td>\n",
              "      <td>81.0</td>\n",
              "      <td>...</td>\n",
              "      <td>113.0</td>\n",
              "      <td>8.6</td>\n",
              "      <td>6.0</td>\n",
              "      <td>2</td>\n",
              "      <td>0</td>\n",
              "      <td>13.0</td>\n",
              "      <td>16.0</td>\n",
              "      <td>1</td>\n",
              "      <td>0</td>\n",
              "      <td>1</td>\n",
              "    </tr>\n",
              "    <tr>\n",
              "      <th>4</th>\n",
              "      <td>9661</td>\n",
              "      <td>19</td>\n",
              "      <td>5</td>\n",
              "      <td>5.80</td>\n",
              "      <td>158.0</td>\n",
              "      <td>47.0</td>\n",
              "      <td>61.0</td>\n",
              "      <td>74.0</td>\n",
              "      <td>57.0</td>\n",
              "      <td>49.0</td>\n",
              "      <td>...</td>\n",
              "      <td>0.0</td>\n",
              "      <td>5.7</td>\n",
              "      <td>5.0</td>\n",
              "      <td>2</td>\n",
              "      <td>0</td>\n",
              "      <td>4.0</td>\n",
              "      <td>0.0</td>\n",
              "      <td>0</td>\n",
              "      <td>1</td>\n",
              "      <td>0</td>\n",
              "    </tr>\n",
              "  </tbody>\n",
              "</table>\n",
              "<p>5 rows × 30 columns</p>\n",
              "</div>\n",
              "      <button class=\"colab-df-convert\" onclick=\"convertToInteractive('df-b656e927-b1ad-4ea6-94ad-bb8e5691f90b')\"\n",
              "              title=\"Convert this dataframe to an interactive table.\"\n",
              "              style=\"display:none;\">\n",
              "        \n",
              "  <svg xmlns=\"http://www.w3.org/2000/svg\" height=\"24px\"viewBox=\"0 0 24 24\"\n",
              "       width=\"24px\">\n",
              "    <path d=\"M0 0h24v24H0V0z\" fill=\"none\"/>\n",
              "    <path d=\"M18.56 5.44l.94 2.06.94-2.06 2.06-.94-2.06-.94-.94-2.06-.94 2.06-2.06.94zm-11 1L8.5 8.5l.94-2.06 2.06-.94-2.06-.94L8.5 2.5l-.94 2.06-2.06.94zm10 10l.94 2.06.94-2.06 2.06-.94-2.06-.94-.94-2.06-.94 2.06-2.06.94z\"/><path d=\"M17.41 7.96l-1.37-1.37c-.4-.4-.92-.59-1.43-.59-.52 0-1.04.2-1.43.59L10.3 9.45l-7.72 7.72c-.78.78-.78 2.05 0 2.83L4 21.41c.39.39.9.59 1.41.59.51 0 1.02-.2 1.41-.59l7.78-7.78 2.81-2.81c.8-.78.8-2.07 0-2.86zM5.41 20L4 18.59l7.72-7.72 1.47 1.35L5.41 20z\"/>\n",
              "  </svg>\n",
              "      </button>\n",
              "      \n",
              "  <style>\n",
              "    .colab-df-container {\n",
              "      display:flex;\n",
              "      flex-wrap:wrap;\n",
              "      gap: 12px;\n",
              "    }\n",
              "\n",
              "    .colab-df-convert {\n",
              "      background-color: #E8F0FE;\n",
              "      border: none;\n",
              "      border-radius: 50%;\n",
              "      cursor: pointer;\n",
              "      display: none;\n",
              "      fill: #1967D2;\n",
              "      height: 32px;\n",
              "      padding: 0 0 0 0;\n",
              "      width: 32px;\n",
              "    }\n",
              "\n",
              "    .colab-df-convert:hover {\n",
              "      background-color: #E2EBFA;\n",
              "      box-shadow: 0px 1px 2px rgba(60, 64, 67, 0.3), 0px 1px 3px 1px rgba(60, 64, 67, 0.15);\n",
              "      fill: #174EA6;\n",
              "    }\n",
              "\n",
              "    [theme=dark] .colab-df-convert {\n",
              "      background-color: #3B4455;\n",
              "      fill: #D2E3FC;\n",
              "    }\n",
              "\n",
              "    [theme=dark] .colab-df-convert:hover {\n",
              "      background-color: #434B5C;\n",
              "      box-shadow: 0px 1px 3px 1px rgba(0, 0, 0, 0.15);\n",
              "      filter: drop-shadow(0px 1px 2px rgba(0, 0, 0, 0.3));\n",
              "      fill: #FFFFFF;\n",
              "    }\n",
              "  </style>\n",
              "\n",
              "      <script>\n",
              "        const buttonEl =\n",
              "          document.querySelector('#df-b656e927-b1ad-4ea6-94ad-bb8e5691f90b button.colab-df-convert');\n",
              "        buttonEl.style.display =\n",
              "          google.colab.kernel.accessAllowed ? 'block' : 'none';\n",
              "\n",
              "        async function convertToInteractive(key) {\n",
              "          const element = document.querySelector('#df-b656e927-b1ad-4ea6-94ad-bb8e5691f90b');\n",
              "          const dataTable =\n",
              "            await google.colab.kernel.invokeFunction('convertToInteractive',\n",
              "                                                     [key], {});\n",
              "          if (!dataTable) return;\n",
              "\n",
              "          const docLinkHtml = 'Like what you see? Visit the ' +\n",
              "            '<a target=\"_blank\" href=https://colab.research.google.com/notebooks/data_table.ipynb>data table notebook</a>'\n",
              "            + ' to learn more about interactive tables.';\n",
              "          element.innerHTML = '';\n",
              "          dataTable['output_type'] = 'display_data';\n",
              "          await google.colab.output.renderOutput(dataTable, element);\n",
              "          const docLink = document.createElement('div');\n",
              "          docLink.innerHTML = docLinkHtml;\n",
              "          element.appendChild(docLink);\n",
              "        }\n",
              "      </script>\n",
              "    </div>\n",
              "  </div>\n",
              "  "
            ]
          },
          "metadata": {},
          "execution_count": 58
        }
      ]
    },
    {
      "cell_type": "code",
      "source": [
        "train1.shape"
      ],
      "metadata": {
        "colab": {
          "base_uri": "https://localhost:8080/"
        },
        "id": "UZ0scVxMs-Ci",
        "outputId": "3b9263d0-5c22-4b2a-8736-b8112a765555"
      },
      "execution_count": null,
      "outputs": [
        {
          "output_type": "execute_result",
          "data": {
            "text/plain": [
              "(13994, 30)"
            ]
          },
          "metadata": {},
          "execution_count": 103
        }
      ]
    },
    {
      "cell_type": "code",
      "source": [
        "#Model Building\n",
        "from sklearn.ensemble import RandomForestClassifier\n",
        "from sklearn.metrics import accuracy_score,confusion_matrix,f1_score\n",
        "from sklearn.model_selection import train_test_split"
      ],
      "metadata": {
        "id": "Wj0awC7ms_XQ"
      },
      "execution_count": null,
      "outputs": []
    },
    {
      "cell_type": "code",
      "source": [
        "X=train1.drop('selection',axis=1)\n",
        "Y=train1['selection']"
      ],
      "metadata": {
        "id": "KGyxGO3XuGCE"
      },
      "execution_count": null,
      "outputs": []
    },
    {
      "cell_type": "code",
      "source": [
        "X_train,X_test,Y_train,Y_test=train_test_split(X,Y,random_state=42,test_size=0.2)"
      ],
      "metadata": {
        "id": "8oQR05k2t5VD"
      },
      "execution_count": null,
      "outputs": []
    },
    {
      "cell_type": "code",
      "source": [
        "rfc=RandomForestClassifier()\n",
        "model_rfc=rfc.fit(X_train,Y_train)"
      ],
      "metadata": {
        "id": "pzs4mIXzufmb"
      },
      "execution_count": null,
      "outputs": []
    },
    {
      "cell_type": "code",
      "source": [
        "#Importing test data\n",
        "test=pd.read_csv('test.csv')"
      ],
      "metadata": {
        "id": "JTZJR7nhu1Rj"
      },
      "execution_count": null,
      "outputs": []
    },
    {
      "cell_type": "code",
      "source": [
        "test.shape"
      ],
      "metadata": {
        "colab": {
          "base_uri": "https://localhost:8080/"
        },
        "id": "VCEsIXuL27fO",
        "outputId": "c676c0a5-d7a6-4111-a109-06768d4c974d"
      },
      "execution_count": null,
      "outputs": [
        {
          "output_type": "execute_result",
          "data": {
            "text/plain": [
              "(9330, 29)"
            ]
          },
          "metadata": {},
          "execution_count": 271
        }
      ]
    },
    {
      "cell_type": "code",
      "source": [
        "test.head()"
      ],
      "metadata": {
        "colab": {
          "base_uri": "https://localhost:8080/",
          "height": 351
        },
        "id": "uoK2dTwFvsXE",
        "outputId": "630c1646-e911-430e-be6c-30e33188fb37"
      },
      "execution_count": null,
      "outputs": [
        {
          "output_type": "execute_result",
          "data": {
            "text/plain": [
              "    player_id               name  age gender       country height  weight  \\\n",
              "0  PLID_14644           Ha Matta   16      F       Austria    6'1  163lbs   \n",
              "1   PLID_5934      Rex Weinstock   23      F  South Africa    5'9  170lbs   \n",
              "2   PLID_5074      Raisa Angeles   18      F   Netherlands   5'10  154lbs   \n",
              "3  PLID_17357    Jong Flewelling   24      F      China PR    6'0  168lbs   \n",
              "4  PLID_13993  Dian Westmoreland   20      F     Australia    6'0  163lbs   \n",
              "\n",
              "   ball_controlling_skills  body_reflexes  body_balance  ...  \\\n",
              "0                     68.0           68.0          54.0  ...   \n",
              "1                     65.0           73.0          78.0  ...   \n",
              "2                     72.0           79.0          64.0  ...   \n",
              "3                     64.0           76.0          65.0  ...   \n",
              "4                     53.0           58.0          57.0  ...   \n",
              "\n",
              "   max_running_speed  strong_foot  behaviour_rating  matches_played  \\\n",
              "0               25.6        Right               6.5             0.0   \n",
              "1               27.6        Right               5.1             1.0   \n",
              "2               29.4         Left               5.8             0.0   \n",
              "3               23.0        Right               5.2             0.0   \n",
              "4               23.2        Right               4.7             0.0   \n",
              "\n",
              "   fitness_rating  trophies_won  dedication_level     coaching  \\\n",
              "0             7.7           3.0            Medium      Unknown   \n",
              "1             6.1           3.0            Medium      Academy   \n",
              "2             8.4           2.0            Medium      Academy   \n",
              "3             6.2           6.0              High      Academy   \n",
              "4             6.9           3.0            Medium  Talent Hunt   \n",
              "\n",
              "   years_of_experience  no_of_disqualifications  \n",
              "0                  1.0                      0.0  \n",
              "1                  9.0                      0.0  \n",
              "2                  3.0                      0.0  \n",
              "3                 10.0                      0.0  \n",
              "4                  5.0                      0.0  \n",
              "\n",
              "[5 rows x 29 columns]"
            ],
            "text/html": [
              "\n",
              "  <div id=\"df-c96cb7dd-2ef2-4d73-981b-b91e42e7a68e\">\n",
              "    <div class=\"colab-df-container\">\n",
              "      <div>\n",
              "<style scoped>\n",
              "    .dataframe tbody tr th:only-of-type {\n",
              "        vertical-align: middle;\n",
              "    }\n",
              "\n",
              "    .dataframe tbody tr th {\n",
              "        vertical-align: top;\n",
              "    }\n",
              "\n",
              "    .dataframe thead th {\n",
              "        text-align: right;\n",
              "    }\n",
              "</style>\n",
              "<table border=\"1\" class=\"dataframe\">\n",
              "  <thead>\n",
              "    <tr style=\"text-align: right;\">\n",
              "      <th></th>\n",
              "      <th>player_id</th>\n",
              "      <th>name</th>\n",
              "      <th>age</th>\n",
              "      <th>gender</th>\n",
              "      <th>country</th>\n",
              "      <th>height</th>\n",
              "      <th>weight</th>\n",
              "      <th>ball_controlling_skills</th>\n",
              "      <th>body_reflexes</th>\n",
              "      <th>body_balance</th>\n",
              "      <th>...</th>\n",
              "      <th>max_running_speed</th>\n",
              "      <th>strong_foot</th>\n",
              "      <th>behaviour_rating</th>\n",
              "      <th>matches_played</th>\n",
              "      <th>fitness_rating</th>\n",
              "      <th>trophies_won</th>\n",
              "      <th>dedication_level</th>\n",
              "      <th>coaching</th>\n",
              "      <th>years_of_experience</th>\n",
              "      <th>no_of_disqualifications</th>\n",
              "    </tr>\n",
              "  </thead>\n",
              "  <tbody>\n",
              "    <tr>\n",
              "      <th>0</th>\n",
              "      <td>PLID_14644</td>\n",
              "      <td>Ha Matta</td>\n",
              "      <td>16</td>\n",
              "      <td>F</td>\n",
              "      <td>Austria</td>\n",
              "      <td>6'1</td>\n",
              "      <td>163lbs</td>\n",
              "      <td>68.0</td>\n",
              "      <td>68.0</td>\n",
              "      <td>54.0</td>\n",
              "      <td>...</td>\n",
              "      <td>25.6</td>\n",
              "      <td>Right</td>\n",
              "      <td>6.5</td>\n",
              "      <td>0.0</td>\n",
              "      <td>7.7</td>\n",
              "      <td>3.0</td>\n",
              "      <td>Medium</td>\n",
              "      <td>Unknown</td>\n",
              "      <td>1.0</td>\n",
              "      <td>0.0</td>\n",
              "    </tr>\n",
              "    <tr>\n",
              "      <th>1</th>\n",
              "      <td>PLID_5934</td>\n",
              "      <td>Rex Weinstock</td>\n",
              "      <td>23</td>\n",
              "      <td>F</td>\n",
              "      <td>South Africa</td>\n",
              "      <td>5'9</td>\n",
              "      <td>170lbs</td>\n",
              "      <td>65.0</td>\n",
              "      <td>73.0</td>\n",
              "      <td>78.0</td>\n",
              "      <td>...</td>\n",
              "      <td>27.6</td>\n",
              "      <td>Right</td>\n",
              "      <td>5.1</td>\n",
              "      <td>1.0</td>\n",
              "      <td>6.1</td>\n",
              "      <td>3.0</td>\n",
              "      <td>Medium</td>\n",
              "      <td>Academy</td>\n",
              "      <td>9.0</td>\n",
              "      <td>0.0</td>\n",
              "    </tr>\n",
              "    <tr>\n",
              "      <th>2</th>\n",
              "      <td>PLID_5074</td>\n",
              "      <td>Raisa Angeles</td>\n",
              "      <td>18</td>\n",
              "      <td>F</td>\n",
              "      <td>Netherlands</td>\n",
              "      <td>5'10</td>\n",
              "      <td>154lbs</td>\n",
              "      <td>72.0</td>\n",
              "      <td>79.0</td>\n",
              "      <td>64.0</td>\n",
              "      <td>...</td>\n",
              "      <td>29.4</td>\n",
              "      <td>Left</td>\n",
              "      <td>5.8</td>\n",
              "      <td>0.0</td>\n",
              "      <td>8.4</td>\n",
              "      <td>2.0</td>\n",
              "      <td>Medium</td>\n",
              "      <td>Academy</td>\n",
              "      <td>3.0</td>\n",
              "      <td>0.0</td>\n",
              "    </tr>\n",
              "    <tr>\n",
              "      <th>3</th>\n",
              "      <td>PLID_17357</td>\n",
              "      <td>Jong Flewelling</td>\n",
              "      <td>24</td>\n",
              "      <td>F</td>\n",
              "      <td>China PR</td>\n",
              "      <td>6'0</td>\n",
              "      <td>168lbs</td>\n",
              "      <td>64.0</td>\n",
              "      <td>76.0</td>\n",
              "      <td>65.0</td>\n",
              "      <td>...</td>\n",
              "      <td>23.0</td>\n",
              "      <td>Right</td>\n",
              "      <td>5.2</td>\n",
              "      <td>0.0</td>\n",
              "      <td>6.2</td>\n",
              "      <td>6.0</td>\n",
              "      <td>High</td>\n",
              "      <td>Academy</td>\n",
              "      <td>10.0</td>\n",
              "      <td>0.0</td>\n",
              "    </tr>\n",
              "    <tr>\n",
              "      <th>4</th>\n",
              "      <td>PLID_13993</td>\n",
              "      <td>Dian Westmoreland</td>\n",
              "      <td>20</td>\n",
              "      <td>F</td>\n",
              "      <td>Australia</td>\n",
              "      <td>6'0</td>\n",
              "      <td>163lbs</td>\n",
              "      <td>53.0</td>\n",
              "      <td>58.0</td>\n",
              "      <td>57.0</td>\n",
              "      <td>...</td>\n",
              "      <td>23.2</td>\n",
              "      <td>Right</td>\n",
              "      <td>4.7</td>\n",
              "      <td>0.0</td>\n",
              "      <td>6.9</td>\n",
              "      <td>3.0</td>\n",
              "      <td>Medium</td>\n",
              "      <td>Talent Hunt</td>\n",
              "      <td>5.0</td>\n",
              "      <td>0.0</td>\n",
              "    </tr>\n",
              "  </tbody>\n",
              "</table>\n",
              "<p>5 rows × 29 columns</p>\n",
              "</div>\n",
              "      <button class=\"colab-df-convert\" onclick=\"convertToInteractive('df-c96cb7dd-2ef2-4d73-981b-b91e42e7a68e')\"\n",
              "              title=\"Convert this dataframe to an interactive table.\"\n",
              "              style=\"display:none;\">\n",
              "        \n",
              "  <svg xmlns=\"http://www.w3.org/2000/svg\" height=\"24px\"viewBox=\"0 0 24 24\"\n",
              "       width=\"24px\">\n",
              "    <path d=\"M0 0h24v24H0V0z\" fill=\"none\"/>\n",
              "    <path d=\"M18.56 5.44l.94 2.06.94-2.06 2.06-.94-2.06-.94-.94-2.06-.94 2.06-2.06.94zm-11 1L8.5 8.5l.94-2.06 2.06-.94-2.06-.94L8.5 2.5l-.94 2.06-2.06.94zm10 10l.94 2.06.94-2.06 2.06-.94-2.06-.94-.94-2.06-.94 2.06-2.06.94z\"/><path d=\"M17.41 7.96l-1.37-1.37c-.4-.4-.92-.59-1.43-.59-.52 0-1.04.2-1.43.59L10.3 9.45l-7.72 7.72c-.78.78-.78 2.05 0 2.83L4 21.41c.39.39.9.59 1.41.59.51 0 1.02-.2 1.41-.59l7.78-7.78 2.81-2.81c.8-.78.8-2.07 0-2.86zM5.41 20L4 18.59l7.72-7.72 1.47 1.35L5.41 20z\"/>\n",
              "  </svg>\n",
              "      </button>\n",
              "      \n",
              "  <style>\n",
              "    .colab-df-container {\n",
              "      display:flex;\n",
              "      flex-wrap:wrap;\n",
              "      gap: 12px;\n",
              "    }\n",
              "\n",
              "    .colab-df-convert {\n",
              "      background-color: #E8F0FE;\n",
              "      border: none;\n",
              "      border-radius: 50%;\n",
              "      cursor: pointer;\n",
              "      display: none;\n",
              "      fill: #1967D2;\n",
              "      height: 32px;\n",
              "      padding: 0 0 0 0;\n",
              "      width: 32px;\n",
              "    }\n",
              "\n",
              "    .colab-df-convert:hover {\n",
              "      background-color: #E2EBFA;\n",
              "      box-shadow: 0px 1px 2px rgba(60, 64, 67, 0.3), 0px 1px 3px 1px rgba(60, 64, 67, 0.15);\n",
              "      fill: #174EA6;\n",
              "    }\n",
              "\n",
              "    [theme=dark] .colab-df-convert {\n",
              "      background-color: #3B4455;\n",
              "      fill: #D2E3FC;\n",
              "    }\n",
              "\n",
              "    [theme=dark] .colab-df-convert:hover {\n",
              "      background-color: #434B5C;\n",
              "      box-shadow: 0px 1px 3px 1px rgba(0, 0, 0, 0.15);\n",
              "      filter: drop-shadow(0px 1px 2px rgba(0, 0, 0, 0.3));\n",
              "      fill: #FFFFFF;\n",
              "    }\n",
              "  </style>\n",
              "\n",
              "      <script>\n",
              "        const buttonEl =\n",
              "          document.querySelector('#df-c96cb7dd-2ef2-4d73-981b-b91e42e7a68e button.colab-df-convert');\n",
              "        buttonEl.style.display =\n",
              "          google.colab.kernel.accessAllowed ? 'block' : 'none';\n",
              "\n",
              "        async function convertToInteractive(key) {\n",
              "          const element = document.querySelector('#df-c96cb7dd-2ef2-4d73-981b-b91e42e7a68e');\n",
              "          const dataTable =\n",
              "            await google.colab.kernel.invokeFunction('convertToInteractive',\n",
              "                                                     [key], {});\n",
              "          if (!dataTable) return;\n",
              "\n",
              "          const docLinkHtml = 'Like what you see? Visit the ' +\n",
              "            '<a target=\"_blank\" href=https://colab.research.google.com/notebooks/data_table.ipynb>data table notebook</a>'\n",
              "            + ' to learn more about interactive tables.';\n",
              "          element.innerHTML = '';\n",
              "          dataTable['output_type'] = 'display_data';\n",
              "          await google.colab.output.renderOutput(dataTable, element);\n",
              "          const docLink = document.createElement('div');\n",
              "          docLink.innerHTML = docLinkHtml;\n",
              "          element.appendChild(docLink);\n",
              "        }\n",
              "      </script>\n",
              "    </div>\n",
              "  </div>\n",
              "  "
            ]
          },
          "metadata": {},
          "execution_count": 272
        }
      ]
    },
    {
      "cell_type": "code",
      "source": [
        "test1=test.drop('name',axis=1)"
      ],
      "metadata": {
        "id": "hqj3sNcmvtco"
      },
      "execution_count": null,
      "outputs": []
    },
    {
      "cell_type": "code",
      "source": [
        "test1.shape"
      ],
      "metadata": {
        "colab": {
          "base_uri": "https://localhost:8080/"
        },
        "id": "aktPjTIn3Bhf",
        "outputId": "6b6a9212-41c3-4acc-de20-e6ee88dd5314"
      },
      "execution_count": null,
      "outputs": [
        {
          "output_type": "execute_result",
          "data": {
            "text/plain": [
              "(9330, 28)"
            ]
          },
          "metadata": {},
          "execution_count": 274
        }
      ]
    },
    {
      "cell_type": "code",
      "source": [
        "#Formatting weight column\n",
        "test1['weight']=test1['weight'].str.replace(\"lbs\",' ')"
      ],
      "metadata": {
        "id": "sIZvPg5Gv2y6"
      },
      "execution_count": null,
      "outputs": []
    },
    {
      "cell_type": "code",
      "source": [
        "#Formatting height column\n",
        "test1['height']=test1['height'].str.replace(\"'\",'.')"
      ],
      "metadata": {
        "id": "LRE6BtOK32ez"
      },
      "execution_count": null,
      "outputs": []
    },
    {
      "cell_type": "code",
      "source": [
        "test1['weight']=test1['weight'].astype(float)"
      ],
      "metadata": {
        "id": "M-0r97lnzMO0"
      },
      "execution_count": null,
      "outputs": []
    },
    {
      "cell_type": "code",
      "source": [
        "test1['height']=test1['height'].astype(float)"
      ],
      "metadata": {
        "id": "RtiJvi_E360E"
      },
      "execution_count": null,
      "outputs": []
    },
    {
      "cell_type": "code",
      "source": [
        "test1.isna().sum()"
      ],
      "metadata": {
        "colab": {
          "base_uri": "https://localhost:8080/"
        },
        "id": "_9F3wkkLwHaN",
        "outputId": "7f7fcce9-5ed3-49a3-c35a-779ef87a5dfb"
      },
      "execution_count": null,
      "outputs": [
        {
          "output_type": "execute_result",
          "data": {
            "text/plain": [
              "player_id                      0\n",
              "age                            0\n",
              "gender                        20\n",
              "country                        0\n",
              "height                         0\n",
              "weight                       271\n",
              "ball_controlling_skills      270\n",
              "body_reflexes                  0\n",
              "body_balance                   0\n",
              "jumping_skills                22\n",
              "penalties_conversion_rate     16\n",
              "mental_strength               18\n",
              "goalkeeping_skills             0\n",
              "defending_skills               0\n",
              "passing_skills                 0\n",
              "dribbling_skills               0\n",
              "shot_accuracy                342\n",
              "body_strength_stamina          0\n",
              "max_running_speed              0\n",
              "strong_foot                  378\n",
              "behaviour_rating             442\n",
              "matches_played               471\n",
              "fitness_rating               438\n",
              "trophies_won                   0\n",
              "dedication_level               0\n",
              "coaching                      87\n",
              "years_of_experience           89\n",
              "no_of_disqualifications        0\n",
              "dtype: int64"
            ]
          },
          "metadata": {},
          "execution_count": 279
        }
      ]
    },
    {
      "cell_type": "code",
      "source": [
        "#Formatting player id column\n",
        "test1['player_id']=test1['player_id'].str.replace(\"PLID_\",'')"
      ],
      "metadata": {
        "id": "a45cg_54wW1q"
      },
      "execution_count": null,
      "outputs": []
    },
    {
      "cell_type": "code",
      "source": [
        "test1['player_id']=test1['player_id'].astype(int)"
      ],
      "metadata": {
        "id": "_zqvMEOn4CGW"
      },
      "execution_count": null,
      "outputs": []
    },
    {
      "cell_type": "code",
      "source": [
        "test1['gender']=test1['gender'].fillna(test1['gender'].mode()[0])\n",
        "\n"
      ],
      "metadata": {
        "id": "l8IB5O2jwmo6"
      },
      "execution_count": null,
      "outputs": []
    },
    {
      "cell_type": "code",
      "source": [
        "test1.isna().sum()"
      ],
      "metadata": {
        "colab": {
          "base_uri": "https://localhost:8080/"
        },
        "id": "3kmAe4QsyX36",
        "outputId": "96b6b4af-0af7-4e90-89b1-ef64e2eed1b0"
      },
      "execution_count": null,
      "outputs": [
        {
          "output_type": "execute_result",
          "data": {
            "text/plain": [
              "player_id                      0\n",
              "age                            0\n",
              "gender                         0\n",
              "country                        0\n",
              "height                         0\n",
              "weight                       271\n",
              "ball_controlling_skills      270\n",
              "body_reflexes                  0\n",
              "body_balance                   0\n",
              "jumping_skills                22\n",
              "penalties_conversion_rate     16\n",
              "mental_strength               18\n",
              "goalkeeping_skills             0\n",
              "defending_skills               0\n",
              "passing_skills                 0\n",
              "dribbling_skills               0\n",
              "shot_accuracy                342\n",
              "body_strength_stamina          0\n",
              "max_running_speed              0\n",
              "strong_foot                  378\n",
              "behaviour_rating             442\n",
              "matches_played               471\n",
              "fitness_rating               438\n",
              "trophies_won                   0\n",
              "dedication_level               0\n",
              "coaching                      87\n",
              "years_of_experience           89\n",
              "no_of_disqualifications        0\n",
              "dtype: int64"
            ]
          },
          "metadata": {},
          "execution_count": 220
        }
      ]
    },
    {
      "cell_type": "code",
      "source": [
        "plt.hist(test1['weight'])\n",
        "plt.show()"
      ],
      "metadata": {
        "colab": {
          "base_uri": "https://localhost:8080/",
          "height": 268
        },
        "id": "J8obMPr2ybox",
        "outputId": "f251f44f-ea2f-494b-fed4-1a982752f2cd"
      },
      "execution_count": null,
      "outputs": [
        {
          "output_type": "display_data",
          "data": {
            "text/plain": [
              "<Figure size 432x288 with 1 Axes>"
            ],
            "image/png": "[encoded data removed]"
          },
          "metadata": {
            "needs_background": "light"
          }
        }
      ]
    },
    {
      "cell_type": "code",
      "source": [
        "test1['weight']=test1['weight'].fillna(test1['weight'].mean())"
      ],
      "metadata": {
        "id": "wFiOB2eozBpU"
      },
      "execution_count": null,
      "outputs": []
    },
    {
      "cell_type": "code",
      "source": [
        "plt.hist(test1['ball_controlling_skills'])\n",
        "plt.show()"
      ],
      "metadata": {
        "colab": {
          "base_uri": "https://localhost:8080/",
          "height": 265
        },
        "id": "LYKo2kuCyZso",
        "outputId": "30a952a9-7dd8-470b-97c7-cc8396c46b9d"
      },
      "execution_count": null,
      "outputs": [
        {
          "output_type": "display_data",
          "data": {
            "text/plain": [
              "<Figure size 432x288 with 1 Axes>"
            ],
            "image/png": "[encoded data removed]"
          },
          "metadata": {
            "needs_background": "light"
          }
        }
      ]
    },
    {
      "cell_type": "code",
      "source": [
        "test1['ball_controlling_skills']=test1['ball_controlling_skills'].fillna(test1['ball_controlling_skills'].median())"
      ],
      "metadata": {
        "id": "-WxMuQ2xzufD"
      },
      "execution_count": null,
      "outputs": []
    },
    {
      "cell_type": "code",
      "source": [
        "plt.hist(test1['jumping_skills'])\n",
        "plt.show()"
      ],
      "metadata": {
        "colab": {
          "base_uri": "https://localhost:8080/",
          "height": 265
        },
        "id": "FpKKOWPwyhi8",
        "outputId": "ea383161-f39a-44df-a2ac-2cd72fa77a13"
      },
      "execution_count": null,
      "outputs": [
        {
          "output_type": "display_data",
          "data": {
            "text/plain": [
              "<Figure size 432x288 with 1 Axes>"
            ],
            "image/png": "[encoded data removed]"
          },
          "metadata": {
            "needs_background": "light"
          }
        }
      ]
    },
    {
      "cell_type": "code",
      "source": [
        "test1['jumping_skills']=test1['jumping_skills'].fillna(test1['jumping_skills'].median())"
      ],
      "metadata": {
        "id": "ulngA_7uz8fh"
      },
      "execution_count": null,
      "outputs": []
    },
    {
      "cell_type": "code",
      "source": [
        "plt.hist(test1['penalties_conversion_rate'])\n",
        "plt.show()"
      ],
      "metadata": {
        "colab": {
          "base_uri": "https://localhost:8080/",
          "height": 267
        },
        "id": "PWPzI61eyiB1",
        "outputId": "34061e9d-df43-43e5-e643-7956e33b7604"
      },
      "execution_count": null,
      "outputs": [
        {
          "output_type": "display_data",
          "data": {
            "text/plain": [
              "<Figure size 432x288 with 1 Axes>"
            ],
            "image/png": "[encoded data removed]"
          },
          "metadata": {
            "needs_background": "light"
          }
        }
      ]
    },
    {
      "cell_type": "code",
      "source": [
        "test1['penalties_conversion_rate']=test1['penalties_conversion_rate'].fillna(test1['penalties_conversion_rate'].median())"
      ],
      "metadata": {
        "id": "aStsO-zF0A8z"
      },
      "execution_count": null,
      "outputs": []
    },
    {
      "cell_type": "code",
      "source": [
        "plt.hist(test1['mental_strength'])\n",
        "plt.show()"
      ],
      "metadata": {
        "colab": {
          "base_uri": "https://localhost:8080/",
          "height": 265
        },
        "id": "y6b02a4lyikU",
        "outputId": "b99ae0a7-dd71-406d-d1da-62a4b1d9e585"
      },
      "execution_count": null,
      "outputs": [
        {
          "output_type": "display_data",
          "data": {
            "text/plain": [
              "<Figure size 432x288 with 1 Axes>"
            ],
            "image/png": "[encoded data removed]"
          },
          "metadata": {
            "needs_background": "light"
          }
        }
      ]
    },
    {
      "cell_type": "code",
      "source": [
        "test1['mental_strength']=test1['mental_strength'].fillna(test1['mental_strength'].median())"
      ],
      "metadata": {
        "id": "zuL2pS2i0J_L"
      },
      "execution_count": null,
      "outputs": []
    },
    {
      "cell_type": "code",
      "source": [
        "plt.hist(test1['shot_accuracy'])\n",
        "plt.show()"
      ],
      "metadata": {
        "colab": {
          "base_uri": "https://localhost:8080/",
          "height": 265
        },
        "id": "SToolv_Vyi_M",
        "outputId": "a15f120a-670a-4a82-c770-85aa8843caae"
      },
      "execution_count": null,
      "outputs": [
        {
          "output_type": "display_data",
          "data": {
            "text/plain": [
              "<Figure size 432x288 with 1 Axes>"
            ],
            "image/png": "[encoded data removed]"
          },
          "metadata": {
            "needs_background": "light"
          }
        }
      ]
    },
    {
      "cell_type": "code",
      "source": [
        "test1['shot_accuracy']=test1['shot_accuracy'].fillna(test1['shot_accuracy'].median())"
      ],
      "metadata": {
        "id": "SFo9YEMQ0QQs"
      },
      "execution_count": null,
      "outputs": []
    },
    {
      "cell_type": "code",
      "source": [
        "test1['strong_foot']=test1['strong_foot'].fillna(test1['strong_foot'].mode()[0])"
      ],
      "metadata": {
        "id": "9oo0iCqWyjaX"
      },
      "execution_count": null,
      "outputs": []
    },
    {
      "cell_type": "code",
      "source": [
        "plt.hist(test1['behaviour_rating'])\n",
        "plt.show()"
      ],
      "metadata": {
        "colab": {
          "base_uri": "https://localhost:8080/",
          "height": 265
        },
        "id": "yPliNkIaykWb",
        "outputId": "32980b34-20e4-4449-ec20-2367afb295a8"
      },
      "execution_count": null,
      "outputs": [
        {
          "output_type": "display_data",
          "data": {
            "text/plain": [
              "<Figure size 432x288 with 1 Axes>"
            ],
            "image/png": "[encoded data removed]"
          },
          "metadata": {
            "needs_background": "light"
          }
        }
      ]
    },
    {
      "cell_type": "code",
      "source": [
        "test1['behaviour_rating']=test1['behaviour_rating'].fillna(test1['behaviour_rating'].mean())"
      ],
      "metadata": {
        "id": "nvzWWgXG0pYy"
      },
      "execution_count": null,
      "outputs": []
    },
    {
      "cell_type": "code",
      "source": [
        "plt.hist(test1['matches_played'])\n",
        "plt.show()"
      ],
      "metadata": {
        "colab": {
          "base_uri": "https://localhost:8080/",
          "height": 265
        },
        "id": "WDrK59NHy44k",
        "outputId": "599ea165-69fe-4bc4-84c9-52e55c905d43"
      },
      "execution_count": null,
      "outputs": [
        {
          "output_type": "display_data",
          "data": {
            "text/plain": [
              "<Figure size 432x288 with 1 Axes>"
            ],
            "image/png": "[encoded data removed]"
          },
          "metadata": {
            "needs_background": "light"
          }
        }
      ]
    },
    {
      "cell_type": "code",
      "source": [
        "test1['matches_played']=test1['matches_played'].fillna(test1['matches_played'].median())"
      ],
      "metadata": {
        "id": "qr_wVf_80yeE"
      },
      "execution_count": null,
      "outputs": []
    },
    {
      "cell_type": "code",
      "source": [
        "plt.hist(test1['fitness_rating'])\n",
        "plt.show()"
      ],
      "metadata": {
        "colab": {
          "base_uri": "https://localhost:8080/",
          "height": 265
        },
        "id": "XKwFqFARy51d",
        "outputId": "c78a7646-1132-45dc-df77-64a8806be482"
      },
      "execution_count": null,
      "outputs": [
        {
          "output_type": "display_data",
          "data": {
            "text/plain": [
              "<Figure size 432x288 with 1 Axes>"
            ],
            "image/png": "[encoded data removed]"
          },
          "metadata": {
            "needs_background": "light"
          }
        }
      ]
    },
    {
      "cell_type": "code",
      "source": [
        "test1['fitness_rating']=test1['fitness_rating'].fillna(test1['fitness_rating'].median())"
      ],
      "metadata": {
        "id": "KIiXdMgM05xH"
      },
      "execution_count": null,
      "outputs": []
    },
    {
      "cell_type": "code",
      "source": [
        "test1.isna().sum()"
      ],
      "metadata": {
        "colab": {
          "base_uri": "https://localhost:8080/"
        },
        "id": "jDPWag9R1Aac",
        "outputId": "5a81fb46-8f07-4a7b-a606-3c0e1a9e6c01"
      },
      "execution_count": null,
      "outputs": [
        {
          "output_type": "execute_result",
          "data": {
            "text/plain": [
              "player_id                     0\n",
              "age                           0\n",
              "gender                        0\n",
              "country                       0\n",
              "height                        0\n",
              "weight                        0\n",
              "ball_controlling_skills       0\n",
              "body_reflexes                 0\n",
              "body_balance                  0\n",
              "jumping_skills                0\n",
              "penalties_conversion_rate     0\n",
              "mental_strength               0\n",
              "goalkeeping_skills            0\n",
              "defending_skills              0\n",
              "passing_skills                0\n",
              "dribbling_skills              0\n",
              "shot_accuracy                 0\n",
              "body_strength_stamina         0\n",
              "max_running_speed             0\n",
              "strong_foot                   0\n",
              "behaviour_rating              0\n",
              "matches_played                0\n",
              "fitness_rating                0\n",
              "trophies_won                  0\n",
              "dedication_level              0\n",
              "coaching                     87\n",
              "years_of_experience          89\n",
              "no_of_disqualifications       0\n",
              "dtype: int64"
            ]
          },
          "metadata": {},
          "execution_count": 234
        }
      ]
    },
    {
      "cell_type": "code",
      "source": [
        "test1['coaching']=test1['coaching'].fillna(test1['coaching'].mode()[0])\n"
      ],
      "metadata": {
        "id": "3P0EHMy71CNh"
      },
      "execution_count": null,
      "outputs": []
    },
    {
      "cell_type": "code",
      "source": [
        "plt.hist(test1['years_of_experience'])\n",
        "plt.show()"
      ],
      "metadata": {
        "colab": {
          "base_uri": "https://localhost:8080/",
          "height": 265
        },
        "id": "-aiitYKm1Nll",
        "outputId": "a59488dc-db29-4b49-e10f-b246da0f073b"
      },
      "execution_count": null,
      "outputs": [
        {
          "output_type": "display_data",
          "data": {
            "text/plain": [
              "<Figure size 432x288 with 1 Axes>"
            ],
            "image/png": "[encoded data removed]"
          },
          "metadata": {
            "needs_background": "light"
          }
        }
      ]
    },
    {
      "cell_type": "code",
      "source": [
        "test1['years_of_experience']=test1['years_of_experience'].fillna(test1['years_of_experience'].median())"
      ],
      "metadata": {
        "id": "NbnjIEEY1Vnr"
      },
      "execution_count": null,
      "outputs": []
    },
    {
      "cell_type": "code",
      "source": [
        "test1.head()"
      ],
      "metadata": {
        "colab": {
          "base_uri": "https://localhost:8080/",
          "height": 317
        },
        "id": "T3vS8NPy1aMP",
        "outputId": "63441013-e8ae-4cfb-c60b-dd9f594c9077"
      },
      "execution_count": null,
      "outputs": [
        {
          "output_type": "execute_result",
          "data": {
            "text/plain": [
              "   player_id  age gender       country  height  weight  \\\n",
              "0      14644   16      F       Austria     6.1   163.0   \n",
              "1       5934   23      F  South Africa     5.9   170.0   \n",
              "2       5074   18      F   Netherlands     5.1   154.0   \n",
              "3      17357   24      F      China PR     6.0   168.0   \n",
              "4      13993   20      F     Australia     6.0   163.0   \n",
              "\n",
              "   ball_controlling_skills  body_reflexes  body_balance  jumping_skills  ...  \\\n",
              "0                     68.0           68.0          54.0            67.0  ...   \n",
              "1                     65.0           73.0          78.0            92.0  ...   \n",
              "2                     72.0           79.0          64.0            37.0  ...   \n",
              "3                     64.0           76.0          65.0            65.0  ...   \n",
              "4                     53.0           58.0          57.0            66.0  ...   \n",
              "\n",
              "   max_running_speed  strong_foot  behaviour_rating  matches_played  \\\n",
              "0               25.6        Right               6.5             0.0   \n",
              "1               27.6        Right               5.1             1.0   \n",
              "2               29.4         Left               5.8             0.0   \n",
              "3               23.0        Right               5.2             0.0   \n",
              "4               23.2        Right               4.7             0.0   \n",
              "\n",
              "   fitness_rating  trophies_won  dedication_level     coaching  \\\n",
              "0             7.7           3.0            Medium      Unknown   \n",
              "1             6.1           3.0            Medium      Academy   \n",
              "2             8.4           2.0            Medium      Academy   \n",
              "3             6.2           6.0              High      Academy   \n",
              "4             6.9           3.0            Medium  Talent Hunt   \n",
              "\n",
              "   years_of_experience no_of_disqualifications  \n",
              "0                  1.0                     0.0  \n",
              "1                  9.0                     0.0  \n",
              "2                  3.0                     0.0  \n",
              "3                 10.0                     0.0  \n",
              "4                  5.0                     0.0  \n",
              "\n",
              "[5 rows x 28 columns]"
            ],
            "text/html": [
              "\n",
              "  <div id=\"df-3a0a47fa-0579-4563-9582-f80146dbd1b1\">\n",
              "    <div class=\"colab-df-container\">\n",
              "      <div>\n",
              "<style scoped>\n",
              "    .dataframe tbody tr th:only-of-type {\n",
              "        vertical-align: middle;\n",
              "    }\n",
              "\n",
              "    .dataframe tbody tr th {\n",
              "        vertical-align: top;\n",
              "    }\n",
              "\n",
              "    .dataframe thead th {\n",
              "        text-align: right;\n",
              "    }\n",
              "</style>\n",
              "<table border=\"1\" class=\"dataframe\">\n",
              "  <thead>\n",
              "    <tr style=\"text-align: right;\">\n",
              "      <th></th>\n",
              "      <th>player_id</th>\n",
              "      <th>age</th>\n",
              "      <th>gender</th>\n",
              "      <th>country</th>\n",
              "      <th>height</th>\n",
              "      <th>weight</th>\n",
              "      <th>ball_controlling_skills</th>\n",
              "      <th>body_reflexes</th>\n",
              "      <th>body_balance</th>\n",
              "      <th>jumping_skills</th>\n",
              "      <th>...</th>\n",
              "      <th>max_running_speed</th>\n",
              "      <th>strong_foot</th>\n",
              "      <th>behaviour_rating</th>\n",
              "      <th>matches_played</th>\n",
              "      <th>fitness_rating</th>\n",
              "      <th>trophies_won</th>\n",
              "      <th>dedication_level</th>\n",
              "      <th>coaching</th>\n",
              "      <th>years_of_experience</th>\n",
              "      <th>no_of_disqualifications</th>\n",
              "    </tr>\n",
              "  </thead>\n",
              "  <tbody>\n",
              "    <tr>\n",
              "      <th>0</th>\n",
              "      <td>14644</td>\n",
              "      <td>16</td>\n",
              "      <td>F</td>\n",
              "      <td>Austria</td>\n",
              "      <td>6.1</td>\n",
              "      <td>163.0</td>\n",
              "      <td>68.0</td>\n",
              "      <td>68.0</td>\n",
              "      <td>54.0</td>\n",
              "      <td>67.0</td>\n",
              "      <td>...</td>\n",
              "      <td>25.6</td>\n",
              "      <td>Right</td>\n",
              "      <td>6.5</td>\n",
              "      <td>0.0</td>\n",
              "      <td>7.7</td>\n",
              "      <td>3.0</td>\n",
              "      <td>Medium</td>\n",
              "      <td>Unknown</td>\n",
              "      <td>1.0</td>\n",
              "      <td>0.0</td>\n",
              "    </tr>\n",
              "    <tr>\n",
              "      <th>1</th>\n",
              "      <td>5934</td>\n",
              "      <td>23</td>\n",
              "      <td>F</td>\n",
              "      <td>South Africa</td>\n",
              "      <td>5.9</td>\n",
              "      <td>170.0</td>\n",
              "      <td>65.0</td>\n",
              "      <td>73.0</td>\n",
              "      <td>78.0</td>\n",
              "      <td>92.0</td>\n",
              "      <td>...</td>\n",
              "      <td>27.6</td>\n",
              "      <td>Right</td>\n",
              "      <td>5.1</td>\n",
              "      <td>1.0</td>\n",
              "      <td>6.1</td>\n",
              "      <td>3.0</td>\n",
              "      <td>Medium</td>\n",
              "      <td>Academy</td>\n",
              "      <td>9.0</td>\n",
              "      <td>0.0</td>\n",
              "    </tr>\n",
              "    <tr>\n",
              "      <th>2</th>\n",
              "      <td>5074</td>\n",
              "      <td>18</td>\n",
              "      <td>F</td>\n",
              "      <td>Netherlands</td>\n",
              "      <td>5.1</td>\n",
              "      <td>154.0</td>\n",
              "      <td>72.0</td>\n",
              "      <td>79.0</td>\n",
              "      <td>64.0</td>\n",
              "      <td>37.0</td>\n",
              "      <td>...</td>\n",
              "      <td>29.4</td>\n",
              "      <td>Left</td>\n",
              "      <td>5.8</td>\n",
              "      <td>0.0</td>\n",
              "      <td>8.4</td>\n",
              "      <td>2.0</td>\n",
              "      <td>Medium</td>\n",
              "      <td>Academy</td>\n",
              "      <td>3.0</td>\n",
              "      <td>0.0</td>\n",
              "    </tr>\n",
              "    <tr>\n",
              "      <th>3</th>\n",
              "      <td>17357</td>\n",
              "      <td>24</td>\n",
              "      <td>F</td>\n",
              "      <td>China PR</td>\n",
              "      <td>6.0</td>\n",
              "      <td>168.0</td>\n",
              "      <td>64.0</td>\n",
              "      <td>76.0</td>\n",
              "      <td>65.0</td>\n",
              "      <td>65.0</td>\n",
              "      <td>...</td>\n",
              "      <td>23.0</td>\n",
              "      <td>Right</td>\n",
              "      <td>5.2</td>\n",
              "      <td>0.0</td>\n",
              "      <td>6.2</td>\n",
              "      <td>6.0</td>\n",
              "      <td>High</td>\n",
              "      <td>Academy</td>\n",
              "      <td>10.0</td>\n",
              "      <td>0.0</td>\n",
              "    </tr>\n",
              "    <tr>\n",
              "      <th>4</th>\n",
              "      <td>13993</td>\n",
              "      <td>20</td>\n",
              "      <td>F</td>\n",
              "      <td>Australia</td>\n",
              "      <td>6.0</td>\n",
              "      <td>163.0</td>\n",
              "      <td>53.0</td>\n",
              "      <td>58.0</td>\n",
              "      <td>57.0</td>\n",
              "      <td>66.0</td>\n",
              "      <td>...</td>\n",
              "      <td>23.2</td>\n",
              "      <td>Right</td>\n",
              "      <td>4.7</td>\n",
              "      <td>0.0</td>\n",
              "      <td>6.9</td>\n",
              "      <td>3.0</td>\n",
              "      <td>Medium</td>\n",
              "      <td>Talent Hunt</td>\n",
              "      <td>5.0</td>\n",
              "      <td>0.0</td>\n",
              "    </tr>\n",
              "  </tbody>\n",
              "</table>\n",
              "<p>5 rows × 28 columns</p>\n",
              "</div>\n",
              "      <button class=\"colab-df-convert\" onclick=\"convertToInteractive('df-3a0a47fa-0579-4563-9582-f80146dbd1b1')\"\n",
              "              title=\"Convert this dataframe to an interactive table.\"\n",
              "              style=\"display:none;\">\n",
              "        \n",
              "  <svg xmlns=\"http://www.w3.org/2000/svg\" height=\"24px\"viewBox=\"0 0 24 24\"\n",
              "       width=\"24px\">\n",
              "    <path d=\"M0 0h24v24H0V0z\" fill=\"none\"/>\n",
              "    <path d=\"M18.56 5.44l.94 2.06.94-2.06 2.06-.94-2.06-.94-.94-2.06-.94 2.06-2.06.94zm-11 1L8.5 8.5l.94-2.06 2.06-.94-2.06-.94L8.5 2.5l-.94 2.06-2.06.94zm10 10l.94 2.06.94-2.06 2.06-.94-2.06-.94-.94-2.06-.94 2.06-2.06.94z\"/><path d=\"M17.41 7.96l-1.37-1.37c-.4-.4-.92-.59-1.43-.59-.52 0-1.04.2-1.43.59L10.3 9.45l-7.72 7.72c-.78.78-.78 2.05 0 2.83L4 21.41c.39.39.9.59 1.41.59.51 0 1.02-.2 1.41-.59l7.78-7.78 2.81-2.81c.8-.78.8-2.07 0-2.86zM5.41 20L4 18.59l7.72-7.72 1.47 1.35L5.41 20z\"/>\n",
              "  </svg>\n",
              "      </button>\n",
              "      \n",
              "  <style>\n",
              "    .colab-df-container {\n",
              "      display:flex;\n",
              "      flex-wrap:wrap;\n",
              "      gap: 12px;\n",
              "    }\n",
              "\n",
              "    .colab-df-convert {\n",
              "      background-color: #E8F0FE;\n",
              "      border: none;\n",
              "      border-radius: 50%;\n",
              "      cursor: pointer;\n",
              "      display: none;\n",
              "      fill: #1967D2;\n",
              "      height: 32px;\n",
              "      padding: 0 0 0 0;\n",
              "      width: 32px;\n",
              "    }\n",
              "\n",
              "    .colab-df-convert:hover {\n",
              "      background-color: #E2EBFA;\n",
              "      box-shadow: 0px 1px 2px rgba(60, 64, 67, 0.3), 0px 1px 3px 1px rgba(60, 64, 67, 0.15);\n",
              "      fill: #174EA6;\n",
              "    }\n",
              "\n",
              "    [theme=dark] .colab-df-convert {\n",
              "      background-color: #3B4455;\n",
              "      fill: #D2E3FC;\n",
              "    }\n",
              "\n",
              "    [theme=dark] .colab-df-convert:hover {\n",
              "      background-color: #434B5C;\n",
              "      box-shadow: 0px 1px 3px 1px rgba(0, 0, 0, 0.15);\n",
              "      filter: drop-shadow(0px 1px 2px rgba(0, 0, 0, 0.3));\n",
              "      fill: #FFFFFF;\n",
              "    }\n",
              "  </style>\n",
              "\n",
              "      <script>\n",
              "        const buttonEl =\n",
              "          document.querySelector('#df-3a0a47fa-0579-4563-9582-f80146dbd1b1 button.colab-df-convert');\n",
              "        buttonEl.style.display =\n",
              "          google.colab.kernel.accessAllowed ? 'block' : 'none';\n",
              "\n",
              "        async function convertToInteractive(key) {\n",
              "          const element = document.querySelector('#df-3a0a47fa-0579-4563-9582-f80146dbd1b1');\n",
              "          const dataTable =\n",
              "            await google.colab.kernel.invokeFunction('convertToInteractive',\n",
              "                                                     [key], {});\n",
              "          if (!dataTable) return;\n",
              "\n",
              "          const docLinkHtml = 'Like what you see? Visit the ' +\n",
              "            '<a target=\"_blank\" href=https://colab.research.google.com/notebooks/data_table.ipynb>data table notebook</a>'\n",
              "            + ' to learn more about interactive tables.';\n",
              "          element.innerHTML = '';\n",
              "          dataTable['output_type'] = 'display_data';\n",
              "          await google.colab.output.renderOutput(dataTable, element);\n",
              "          const docLink = document.createElement('div');\n",
              "          docLink.innerHTML = docLinkHtml;\n",
              "          element.appendChild(docLink);\n",
              "        }\n",
              "      </script>\n",
              "    </div>\n",
              "  </div>\n",
              "  "
            ]
          },
          "metadata": {},
          "execution_count": 169
        }
      ]
    },
    {
      "cell_type": "code",
      "source": [],
      "metadata": {
        "id": "DQ3PcVPG2INb"
      },
      "execution_count": null,
      "outputs": []
    },
    {
      "cell_type": "code",
      "source": [
        "le2=LabelEncoder()\n",
        "#Encoding\n",
        "test1['country']=le2.fit_transform(test1['country'])\n",
        "test1['dedication_level']=le2.fit_transform(test1['dedication_level'])\n",
        "test1['strong_foot']=le2.fit_transform(test1['strong_foot'])\n",
        "test1['coaching']=le2.fit_transform(test1['coaching'])\n"
      ],
      "metadata": {
        "id": "dWzYoF1t1cHy"
      },
      "execution_count": null,
      "outputs": []
    },
    {
      "cell_type": "code",
      "source": [
        "test1.head()"
      ],
      "metadata": {
        "colab": {
          "base_uri": "https://localhost:8080/",
          "height": 299
        },
        "id": "4LFj1gbD1-4B",
        "outputId": "f3767cf1-8e29-4289-d0dd-216e8787cfd6"
      },
      "execution_count": null,
      "outputs": [
        {
          "output_type": "execute_result",
          "data": {
            "text/plain": [
              "   player_id  age gender  country  height  weight  ball_controlling_skills  \\\n",
              "0      14644   16      F        8     6.1   163.0                     68.0   \n",
              "1       5934   23      F      125     5.9   170.0                     65.0   \n",
              "2       5074   18      F       97     5.1   154.0                     72.0   \n",
              "3      17357   24      F       25     6.0   168.0                     64.0   \n",
              "4      13993   20      F        7     6.0   163.0                     53.0   \n",
              "\n",
              "   body_reflexes  body_balance  jumping_skills  ...  max_running_speed  \\\n",
              "0           68.0          54.0            67.0  ...               25.6   \n",
              "1           73.0          78.0            92.0  ...               27.6   \n",
              "2           79.0          64.0            37.0  ...               29.4   \n",
              "3           76.0          65.0            65.0  ...               23.0   \n",
              "4           58.0          57.0            66.0  ...               23.2   \n",
              "\n",
              "   strong_foot  behaviour_rating  matches_played  fitness_rating  \\\n",
              "0            3               6.5             0.0             7.7   \n",
              "1            3               5.1             1.0             6.1   \n",
              "2            1               5.8             0.0             8.4   \n",
              "3            3               5.2             0.0             6.2   \n",
              "4            3               4.7             0.0             6.9   \n",
              "\n",
              "   trophies_won  dedication_level  coaching  years_of_experience  \\\n",
              "0           3.0                 2         3                  1.0   \n",
              "1           3.0                 2         0                  9.0   \n",
              "2           2.0                 2         0                  3.0   \n",
              "3           6.0                 0         0                 10.0   \n",
              "4           3.0                 2         2                  5.0   \n",
              "\n",
              "   no_of_disqualifications  \n",
              "0                      0.0  \n",
              "1                      0.0  \n",
              "2                      0.0  \n",
              "3                      0.0  \n",
              "4                      0.0  \n",
              "\n",
              "[5 rows x 28 columns]"
            ],
            "text/html": [
              "\n",
              "  <div id=\"df-73f35b39-a674-4319-8d2c-f12706bcf98f\">\n",
              "    <div class=\"colab-df-container\">\n",
              "      <div>\n",
              "<style scoped>\n",
              "    .dataframe tbody tr th:only-of-type {\n",
              "        vertical-align: middle;\n",
              "    }\n",
              "\n",
              "    .dataframe tbody tr th {\n",
              "        vertical-align: top;\n",
              "    }\n",
              "\n",
              "    .dataframe thead th {\n",
              "        text-align: right;\n",
              "    }\n",
              "</style>\n",
              "<table border=\"1\" class=\"dataframe\">\n",
              "  <thead>\n",
              "    <tr style=\"text-align: right;\">\n",
              "      <th></th>\n",
              "      <th>player_id</th>\n",
              "      <th>age</th>\n",
              "      <th>gender</th>\n",
              "      <th>country</th>\n",
              "      <th>height</th>\n",
              "      <th>weight</th>\n",
              "      <th>ball_controlling_skills</th>\n",
              "      <th>body_reflexes</th>\n",
              "      <th>body_balance</th>\n",
              "      <th>jumping_skills</th>\n",
              "      <th>...</th>\n",
              "      <th>max_running_speed</th>\n",
              "      <th>strong_foot</th>\n",
              "      <th>behaviour_rating</th>\n",
              "      <th>matches_played</th>\n",
              "      <th>fitness_rating</th>\n",
              "      <th>trophies_won</th>\n",
              "      <th>dedication_level</th>\n",
              "      <th>coaching</th>\n",
              "      <th>years_of_experience</th>\n",
              "      <th>no_of_disqualifications</th>\n",
              "    </tr>\n",
              "  </thead>\n",
              "  <tbody>\n",
              "    <tr>\n",
              "      <th>0</th>\n",
              "      <td>14644</td>\n",
              "      <td>16</td>\n",
              "      <td>F</td>\n",
              "      <td>8</td>\n",
              "      <td>6.1</td>\n",
              "      <td>163.0</td>\n",
              "      <td>68.0</td>\n",
              "      <td>68.0</td>\n",
              "      <td>54.0</td>\n",
              "      <td>67.0</td>\n",
              "      <td>...</td>\n",
              "      <td>25.6</td>\n",
              "      <td>3</td>\n",
              "      <td>6.5</td>\n",
              "      <td>0.0</td>\n",
              "      <td>7.7</td>\n",
              "      <td>3.0</td>\n",
              "      <td>2</td>\n",
              "      <td>3</td>\n",
              "      <td>1.0</td>\n",
              "      <td>0.0</td>\n",
              "    </tr>\n",
              "    <tr>\n",
              "      <th>1</th>\n",
              "      <td>5934</td>\n",
              "      <td>23</td>\n",
              "      <td>F</td>\n",
              "      <td>125</td>\n",
              "      <td>5.9</td>\n",
              "      <td>170.0</td>\n",
              "      <td>65.0</td>\n",
              "      <td>73.0</td>\n",
              "      <td>78.0</td>\n",
              "      <td>92.0</td>\n",
              "      <td>...</td>\n",
              "      <td>27.6</td>\n",
              "      <td>3</td>\n",
              "      <td>5.1</td>\n",
              "      <td>1.0</td>\n",
              "      <td>6.1</td>\n",
              "      <td>3.0</td>\n",
              "      <td>2</td>\n",
              "      <td>0</td>\n",
              "      <td>9.0</td>\n",
              "      <td>0.0</td>\n",
              "    </tr>\n",
              "    <tr>\n",
              "      <th>2</th>\n",
              "      <td>5074</td>\n",
              "      <td>18</td>\n",
              "      <td>F</td>\n",
              "      <td>97</td>\n",
              "      <td>5.1</td>\n",
              "      <td>154.0</td>\n",
              "      <td>72.0</td>\n",
              "      <td>79.0</td>\n",
              "      <td>64.0</td>\n",
              "      <td>37.0</td>\n",
              "      <td>...</td>\n",
              "      <td>29.4</td>\n",
              "      <td>1</td>\n",
              "      <td>5.8</td>\n",
              "      <td>0.0</td>\n",
              "      <td>8.4</td>\n",
              "      <td>2.0</td>\n",
              "      <td>2</td>\n",
              "      <td>0</td>\n",
              "      <td>3.0</td>\n",
              "      <td>0.0</td>\n",
              "    </tr>\n",
              "    <tr>\n",
              "      <th>3</th>\n",
              "      <td>17357</td>\n",
              "      <td>24</td>\n",
              "      <td>F</td>\n",
              "      <td>25</td>\n",
              "      <td>6.0</td>\n",
              "      <td>168.0</td>\n",
              "      <td>64.0</td>\n",
              "      <td>76.0</td>\n",
              "      <td>65.0</td>\n",
              "      <td>65.0</td>\n",
              "      <td>...</td>\n",
              "      <td>23.0</td>\n",
              "      <td>3</td>\n",
              "      <td>5.2</td>\n",
              "      <td>0.0</td>\n",
              "      <td>6.2</td>\n",
              "      <td>6.0</td>\n",
              "      <td>0</td>\n",
              "      <td>0</td>\n",
              "      <td>10.0</td>\n",
              "      <td>0.0</td>\n",
              "    </tr>\n",
              "    <tr>\n",
              "      <th>4</th>\n",
              "      <td>13993</td>\n",
              "      <td>20</td>\n",
              "      <td>F</td>\n",
              "      <td>7</td>\n",
              "      <td>6.0</td>\n",
              "      <td>163.0</td>\n",
              "      <td>53.0</td>\n",
              "      <td>58.0</td>\n",
              "      <td>57.0</td>\n",
              "      <td>66.0</td>\n",
              "      <td>...</td>\n",
              "      <td>23.2</td>\n",
              "      <td>3</td>\n",
              "      <td>4.7</td>\n",
              "      <td>0.0</td>\n",
              "      <td>6.9</td>\n",
              "      <td>3.0</td>\n",
              "      <td>2</td>\n",
              "      <td>2</td>\n",
              "      <td>5.0</td>\n",
              "      <td>0.0</td>\n",
              "    </tr>\n",
              "  </tbody>\n",
              "</table>\n",
              "<p>5 rows × 28 columns</p>\n",
              "</div>\n",
              "      <button class=\"colab-df-convert\" onclick=\"convertToInteractive('df-73f35b39-a674-4319-8d2c-f12706bcf98f')\"\n",
              "              title=\"Convert this dataframe to an interactive table.\"\n",
              "              style=\"display:none;\">\n",
              "        \n",
              "  <svg xmlns=\"http://www.w3.org/2000/svg\" height=\"24px\"viewBox=\"0 0 24 24\"\n",
              "       width=\"24px\">\n",
              "    <path d=\"M0 0h24v24H0V0z\" fill=\"none\"/>\n",
              "    <path d=\"M18.56 5.44l.94 2.06.94-2.06 2.06-.94-2.06-.94-.94-2.06-.94 2.06-2.06.94zm-11 1L8.5 8.5l.94-2.06 2.06-.94-2.06-.94L8.5 2.5l-.94 2.06-2.06.94zm10 10l.94 2.06.94-2.06 2.06-.94-2.06-.94-.94-2.06-.94 2.06-2.06.94z\"/><path d=\"M17.41 7.96l-1.37-1.37c-.4-.4-.92-.59-1.43-.59-.52 0-1.04.2-1.43.59L10.3 9.45l-7.72 7.72c-.78.78-.78 2.05 0 2.83L4 21.41c.39.39.9.59 1.41.59.51 0 1.02-.2 1.41-.59l7.78-7.78 2.81-2.81c.8-.78.8-2.07 0-2.86zM5.41 20L4 18.59l7.72-7.72 1.47 1.35L5.41 20z\"/>\n",
              "  </svg>\n",
              "      </button>\n",
              "      \n",
              "  <style>\n",
              "    .colab-df-container {\n",
              "      display:flex;\n",
              "      flex-wrap:wrap;\n",
              "      gap: 12px;\n",
              "    }\n",
              "\n",
              "    .colab-df-convert {\n",
              "      background-color: #E8F0FE;\n",
              "      border: none;\n",
              "      border-radius: 50%;\n",
              "      cursor: pointer;\n",
              "      display: none;\n",
              "      fill: #1967D2;\n",
              "      height: 32px;\n",
              "      padding: 0 0 0 0;\n",
              "      width: 32px;\n",
              "    }\n",
              "\n",
              "    .colab-df-convert:hover {\n",
              "      background-color: #E2EBFA;\n",
              "      box-shadow: 0px 1px 2px rgba(60, 64, 67, 0.3), 0px 1px 3px 1px rgba(60, 64, 67, 0.15);\n",
              "      fill: #174EA6;\n",
              "    }\n",
              "\n",
              "    [theme=dark] .colab-df-convert {\n",
              "      background-color: #3B4455;\n",
              "      fill: #D2E3FC;\n",
              "    }\n",
              "\n",
              "    [theme=dark] .colab-df-convert:hover {\n",
              "      background-color: #434B5C;\n",
              "      box-shadow: 0px 1px 3px 1px rgba(0, 0, 0, 0.15);\n",
              "      filter: drop-shadow(0px 1px 2px rgba(0, 0, 0, 0.3));\n",
              "      fill: #FFFFFF;\n",
              "    }\n",
              "  </style>\n",
              "\n",
              "      <script>\n",
              "        const buttonEl =\n",
              "          document.querySelector('#df-73f35b39-a674-4319-8d2c-f12706bcf98f button.colab-df-convert');\n",
              "        buttonEl.style.display =\n",
              "          google.colab.kernel.accessAllowed ? 'block' : 'none';\n",
              "\n",
              "        async function convertToInteractive(key) {\n",
              "          const element = document.querySelector('#df-73f35b39-a674-4319-8d2c-f12706bcf98f');\n",
              "          const dataTable =\n",
              "            await google.colab.kernel.invokeFunction('convertToInteractive',\n",
              "                                                     [key], {});\n",
              "          if (!dataTable) return;\n",
              "\n",
              "          const docLinkHtml = 'Like what you see? Visit the ' +\n",
              "            '<a target=\"_blank\" href=https://colab.research.google.com/notebooks/data_table.ipynb>data table notebook</a>'\n",
              "            + ' to learn more about interactive tables.';\n",
              "          element.innerHTML = '';\n",
              "          dataTable['output_type'] = 'display_data';\n",
              "          await google.colab.output.renderOutput(dataTable, element);\n",
              "          const docLink = document.createElement('div');\n",
              "          docLink.innerHTML = docLinkHtml;\n",
              "          element.appendChild(docLink);\n",
              "        }\n",
              "      </script>\n",
              "    </div>\n",
              "  </div>\n",
              "  "
            ]
          },
          "metadata": {},
          "execution_count": 296
        }
      ]
    },
    {
      "cell_type": "code",
      "source": [
        "test1.dtypes"
      ],
      "metadata": {
        "colab": {
          "base_uri": "https://localhost:8080/"
        },
        "id": "QuBm6AZl3qcG",
        "outputId": "9b75a189-0102-42a5-a444-8035d3a7ba1e"
      },
      "execution_count": null,
      "outputs": [
        {
          "output_type": "execute_result",
          "data": {
            "text/plain": [
              "player_id                      int64\n",
              "age                            int64\n",
              "gender                        object\n",
              "country                        int64\n",
              "height                       float64\n",
              "weight                       float64\n",
              "ball_controlling_skills      float64\n",
              "body_reflexes                float64\n",
              "body_balance                 float64\n",
              "jumping_skills               float64\n",
              "penalties_conversion_rate    float64\n",
              "mental_strength              float64\n",
              "goalkeeping_skills           float64\n",
              "defending_skills             float64\n",
              "passing_skills               float64\n",
              "dribbling_skills             float64\n",
              "shot_accuracy                float64\n",
              "body_strength_stamina        float64\n",
              "max_running_speed            float64\n",
              "strong_foot                    int64\n",
              "behaviour_rating             float64\n",
              "matches_played               float64\n",
              "fitness_rating               float64\n",
              "trophies_won                 float64\n",
              "dedication_level               int64\n",
              "coaching                       int64\n",
              "years_of_experience          float64\n",
              "no_of_disqualifications      float64\n",
              "dtype: object"
            ]
          },
          "metadata": {},
          "execution_count": 239
        }
      ]
    },
    {
      "cell_type": "code",
      "source": [
        "test1=pd.get_dummies(test1)"
      ],
      "metadata": {
        "id": "B4pPkQjs179C"
      },
      "execution_count": null,
      "outputs": []
    },
    {
      "cell_type": "code",
      "source": [
        "test1.shape"
      ],
      "metadata": {
        "colab": {
          "base_uri": "https://localhost:8080/"
        },
        "id": "-MUXYvsQ2it5",
        "outputId": "2439801c-b6ed-45b0-c14c-bbe02fc34ad1"
      },
      "execution_count": null,
      "outputs": [
        {
          "output_type": "execute_result",
          "data": {
            "text/plain": [
              "(9330, 29)"
            ]
          },
          "metadata": {},
          "execution_count": 298
        }
      ]
    },
    {
      "cell_type": "code",
      "source": [
        "y_pred=model_rfc.predict(test1)"
      ],
      "metadata": {
        "id": "Zsq1G4Iu2Q2P"
      },
      "execution_count": null,
      "outputs": []
    },
    {
      "cell_type": "code",
      "source": [
        "y_pred"
      ],
      "metadata": {
        "colab": {
          "base_uri": "https://localhost:8080/"
        },
        "id": "4GqjfYJU5uIU",
        "outputId": "e377cf5b-282f-4b88-b93e-ddad95371d6e"
      },
      "execution_count": null,
      "outputs": [
        {
          "output_type": "execute_result",
          "data": {
            "text/plain": [
              "array([1, 0, 1, ..., 1, 1, 1])"
            ]
          },
          "metadata": {},
          "execution_count": 243
        }
      ]
    },
    {
      "cell_type": "code",
      "source": [
        "from sklearn.metrics import f1_score"
      ],
      "metadata": {
        "id": "EWVSrTKcApAF"
      },
      "execution_count": null,
      "outputs": []
    },
    {
      "cell_type": "code",
      "source": [
        "score=max(0,100*f1_score(Y_test,y_pred[:2799]))"
      ],
      "metadata": {
        "id": "asFpwSfCAL-Z"
      },
      "execution_count": null,
      "outputs": []
    },
    {
      "cell_type": "code",
      "source": [
        "print(score)"
      ],
      "metadata": {
        "colab": {
          "base_uri": "https://localhost:8080/"
        },
        "id": "R6TNlDd-BAiN",
        "outputId": "d384d186-8bb6-4315-d3df-014faaa59fc7"
      },
      "execution_count": null,
      "outputs": [
        {
          "output_type": "stream",
          "name": "stdout",
          "text": [
            "55.02268308489954\n"
          ]
        }
      ]
    },
    {
      "cell_type": "code",
      "source": [
        "#Logistic Regression\n",
        "from sklearn.linear_model import LogisticRegression\n",
        "lr=LogisticRegression(max_iter=10000)"
      ],
      "metadata": {
        "id": "BK_pbYuJBGOF"
      },
      "execution_count": null,
      "outputs": []
    },
    {
      "cell_type": "code",
      "source": [
        "model_lr=lr.fit(X_train,Y_train)\n",
        "y_pred2=model_lr.predict(test1)"
      ],
      "metadata": {
        "id": "nzgJGRPCBpcu"
      },
      "execution_count": null,
      "outputs": []
    },
    {
      "cell_type": "code",
      "source": [
        "score=max(0,100*f1_score(Y_test,y_pred2[:2799]))"
      ],
      "metadata": {
        "id": "awtCLfOiC4H2"
      },
      "execution_count": null,
      "outputs": []
    },
    {
      "cell_type": "code",
      "source": [
        "print(score)"
      ],
      "metadata": {
        "colab": {
          "base_uri": "https://localhost:8080/"
        },
        "id": "dLzlgpPzCZBl",
        "outputId": "2eac619e-27c5-43d7-ebf8-ea312041ebe0"
      },
      "execution_count": null,
      "outputs": [
        {
          "output_type": "stream",
          "name": "stdout",
          "text": [
            "55.52407932011331\n"
          ]
        }
      ]
    },
    {
      "cell_type": "code",
      "source": [
        "#Gradient boosting\n",
        "from sklearn.ensemble import GradientBoostingClassifier\n",
        "gb=GradientBoostingClassifier()"
      ],
      "metadata": {
        "id": "a4jkKXQdDAYV"
      },
      "execution_count": null,
      "outputs": []
    },
    {
      "cell_type": "code",
      "source": [
        "model_gb=gb.fit(X_train,Y_train)\n",
        "y_pred3=model_gb.predict(test1)"
      ],
      "metadata": {
        "id": "i3NgkBT8Doa-"
      },
      "execution_count": null,
      "outputs": []
    },
    {
      "cell_type": "code",
      "source": [
        "score=max(0,100*f1_score(Y_test,y_pred2[:2799]))\n",
        "score"
      ],
      "metadata": {
        "colab": {
          "base_uri": "https://localhost:8080/"
        },
        "id": "q_EOiTNoDySN",
        "outputId": "d24261a7-ecac-46c8-e50b-9da9c9662a59"
      },
      "execution_count": null,
      "outputs": [
        {
          "output_type": "execute_result",
          "data": {
            "text/plain": [
              "55.52407932011331"
            ]
          },
          "metadata": {},
          "execution_count": 315
        }
      ]
    },
    {
      "cell_type": "code",
      "source": [
        "#CROSS VALIDATION-KFOLD\n",
        "from sklearn.model_selection import KFold,cross_val_score\n",
        "kfoldvalidator=KFold(10)\n",
        "for train_index,test_index in kfoldvalidator.split(X,Y):\n",
        "  print(train_index)\n"
      ],
      "metadata": {
        "colab": {
          "base_uri": "https://localhost:8080/"
        },
        "id": "foDfY37LD4Nu",
        "outputId": "3bb84ad2-f02f-473f-a313-a5a116d1eecc"
      },
      "execution_count": null,
      "outputs": [
        {
          "output_type": "stream",
          "name": "stdout",
          "text": [
            "[ 1400  1401  1402 ... 13991 13992 13993]\n",
            "[    0     1     2 ... 13991 13992 13993]\n",
            "[    0     1     2 ... 13991 13992 13993]\n",
            "[    0     1     2 ... 13991 13992 13993]\n",
            "[    0     1     2 ... 13991 13992 13993]\n",
            "[    0     1     2 ... 13991 13992 13993]\n",
            "[    0     1     2 ... 13991 13992 13993]\n",
            "[    0     1     2 ... 13991 13992 13993]\n",
            "[    0     1     2 ... 13991 13992 13993]\n",
            "[    0     1     2 ... 12592 12593 12594]\n"
          ]
        }
      ]
    },
    {
      "cell_type": "code",
      "source": [
        "cv1=cross_val_score(model_rfc,X,Y,cv=kfoldvalidator)\n",
        "np.mean(cv1)"
      ],
      "metadata": {
        "colab": {
          "base_uri": "https://localhost:8080/"
        },
        "id": "piv_vhUmFBYk",
        "outputId": "9af49732-7740-427b-d223-98dccd984261"
      },
      "execution_count": null,
      "outputs": [
        {
          "output_type": "execute_result",
          "data": {
            "text/plain": [
              "0.856510160318595"
            ]
          },
          "metadata": {},
          "execution_count": 320
        }
      ]
    },
    {
      "cell_type": "code",
      "source": [
        "cv2=cross_val_score(model_lr,X,Y,cv=kfoldvalidator)\n",
        "np.mean(cv2)"
      ],
      "metadata": {
        "colab": {
          "base_uri": "https://localhost:8080/"
        },
        "id": "RqLpN8-_FNwO",
        "outputId": "49377e46-e7d7-4fdb-a5db-ae39e76ffcc6"
      },
      "execution_count": null,
      "outputs": [
        {
          "output_type": "execute_result",
          "data": {
            "text/plain": [
              "0.7626825283365669"
            ]
          },
          "metadata": {},
          "execution_count": 321
        }
      ]
    },
    {
      "cell_type": "code",
      "source": [
        "cv3=cross_val_score(model_gb,X,Y,cv=kfoldvalidator)\n",
        "np.mean(cv3)"
      ],
      "metadata": {
        "colab": {
          "base_uri": "https://localhost:8080/"
        },
        "id": "rFyMvhMxFPDG",
        "outputId": "1c4eea2d-1fd5-4295-ed5c-ddab33cb05eb"
      },
      "execution_count": null,
      "outputs": [
        {
          "output_type": "execute_result",
          "data": {
            "text/plain": [
              "0.8553669457775962"
            ]
          },
          "metadata": {},
          "execution_count": 322
        }
      ]
    },
    {
      "cell_type": "code",
      "source": [],
      "metadata": {
        "id": "PaR8v98AF073"
      },
      "execution_count": null,
      "outputs": []
    },
    {
      "cell_type": "code",
      "source": [
        "data_sub=pd.read_csv('sample_submission.csv')"
      ],
      "metadata": {
        "id": "IM7T-hyB4Zak"
      },
      "execution_count": null,
      "outputs": []
    },
    {
      "cell_type": "code",
      "source": [
        "data_sub.head()"
      ],
      "metadata": {
        "colab": {
          "base_uri": "https://localhost:8080/",
          "height": 206
        },
        "id": "wcbQ-sAB5mtU",
        "outputId": "293eca0e-e3e2-4a36-e6a9-b033a656801e"
      },
      "execution_count": null,
      "outputs": [
        {
          "output_type": "execute_result",
          "data": {
            "text/plain": [
              "    player_id  selection\n",
              "0   PLID_4964          1\n",
              "1  PLID_11234          0\n",
              "2  PLID_19127          1\n",
              "3  PLID_17467          1\n",
              "4   PLID_9661          0"
            ],
            "text/html": [
              "\n",
              "  <div id=\"df-944938bf-c4c7-4ede-9d77-b1b052805914\">\n",
              "    <div class=\"colab-df-container\">\n",
              "      <div>\n",
              "<style scoped>\n",
              "    .dataframe tbody tr th:only-of-type {\n",
              "        vertical-align: middle;\n",
              "    }\n",
              "\n",
              "    .dataframe tbody tr th {\n",
              "        vertical-align: top;\n",
              "    }\n",
              "\n",
              "    .dataframe thead th {\n",
              "        text-align: right;\n",
              "    }\n",
              "</style>\n",
              "<table border=\"1\" class=\"dataframe\">\n",
              "  <thead>\n",
              "    <tr style=\"text-align: right;\">\n",
              "      <th></th>\n",
              "      <th>player_id</th>\n",
              "      <th>selection</th>\n",
              "    </tr>\n",
              "  </thead>\n",
              "  <tbody>\n",
              "    <tr>\n",
              "      <th>0</th>\n",
              "      <td>PLID_4964</td>\n",
              "      <td>1</td>\n",
              "    </tr>\n",
              "    <tr>\n",
              "      <th>1</th>\n",
              "      <td>PLID_11234</td>\n",
              "      <td>0</td>\n",
              "    </tr>\n",
              "    <tr>\n",
              "      <th>2</th>\n",
              "      <td>PLID_19127</td>\n",
              "      <td>1</td>\n",
              "    </tr>\n",
              "    <tr>\n",
              "      <th>3</th>\n",
              "      <td>PLID_17467</td>\n",
              "      <td>1</td>\n",
              "    </tr>\n",
              "    <tr>\n",
              "      <th>4</th>\n",
              "      <td>PLID_9661</td>\n",
              "      <td>0</td>\n",
              "    </tr>\n",
              "  </tbody>\n",
              "</table>\n",
              "</div>\n",
              "      <button class=\"colab-df-convert\" onclick=\"convertToInteractive('df-944938bf-c4c7-4ede-9d77-b1b052805914')\"\n",
              "              title=\"Convert this dataframe to an interactive table.\"\n",
              "              style=\"display:none;\">\n",
              "        \n",
              "  <svg xmlns=\"http://www.w3.org/2000/svg\" height=\"24px\"viewBox=\"0 0 24 24\"\n",
              "       width=\"24px\">\n",
              "    <path d=\"M0 0h24v24H0V0z\" fill=\"none\"/>\n",
              "    <path d=\"M18.56 5.44l.94 2.06.94-2.06 2.06-.94-2.06-.94-.94-2.06-.94 2.06-2.06.94zm-11 1L8.5 8.5l.94-2.06 2.06-.94-2.06-.94L8.5 2.5l-.94 2.06-2.06.94zm10 10l.94 2.06.94-2.06 2.06-.94-2.06-.94-.94-2.06-.94 2.06-2.06.94z\"/><path d=\"M17.41 7.96l-1.37-1.37c-.4-.4-.92-.59-1.43-.59-.52 0-1.04.2-1.43.59L10.3 9.45l-7.72 7.72c-.78.78-.78 2.05 0 2.83L4 21.41c.39.39.9.59 1.41.59.51 0 1.02-.2 1.41-.59l7.78-7.78 2.81-2.81c.8-.78.8-2.07 0-2.86zM5.41 20L4 18.59l7.72-7.72 1.47 1.35L5.41 20z\"/>\n",
              "  </svg>\n",
              "      </button>\n",
              "      \n",
              "  <style>\n",
              "    .colab-df-container {\n",
              "      display:flex;\n",
              "      flex-wrap:wrap;\n",
              "      gap: 12px;\n",
              "    }\n",
              "\n",
              "    .colab-df-convert {\n",
              "      background-color: #E8F0FE;\n",
              "      border: none;\n",
              "      border-radius: 50%;\n",
              "      cursor: pointer;\n",
              "      display: none;\n",
              "      fill: #1967D2;\n",
              "      height: 32px;\n",
              "      padding: 0 0 0 0;\n",
              "      width: 32px;\n",
              "    }\n",
              "\n",
              "    .colab-df-convert:hover {\n",
              "      background-color: #E2EBFA;\n",
              "      box-shadow: 0px 1px 2px rgba(60, 64, 67, 0.3), 0px 1px 3px 1px rgba(60, 64, 67, 0.15);\n",
              "      fill: #174EA6;\n",
              "    }\n",
              "\n",
              "    [theme=dark] .colab-df-convert {\n",
              "      background-color: #3B4455;\n",
              "      fill: #D2E3FC;\n",
              "    }\n",
              "\n",
              "    [theme=dark] .colab-df-convert:hover {\n",
              "      background-color: #434B5C;\n",
              "      box-shadow: 0px 1px 3px 1px rgba(0, 0, 0, 0.15);\n",
              "      filter: drop-shadow(0px 1px 2px rgba(0, 0, 0, 0.3));\n",
              "      fill: #FFFFFF;\n",
              "    }\n",
              "  </style>\n",
              "\n",
              "      <script>\n",
              "        const buttonEl =\n",
              "          document.querySelector('#df-944938bf-c4c7-4ede-9d77-b1b052805914 button.colab-df-convert');\n",
              "        buttonEl.style.display =\n",
              "          google.colab.kernel.accessAllowed ? 'block' : 'none';\n",
              "\n",
              "        async function convertToInteractive(key) {\n",
              "          const element = document.querySelector('#df-944938bf-c4c7-4ede-9d77-b1b052805914');\n",
              "          const dataTable =\n",
              "            await google.colab.kernel.invokeFunction('convertToInteractive',\n",
              "                                                     [key], {});\n",
              "          if (!dataTable) return;\n",
              "\n",
              "          const docLinkHtml = 'Like what you see? Visit the ' +\n",
              "            '<a target=\"_blank\" href=https://colab.research.google.com/notebooks/data_table.ipynb>data table notebook</a>'\n",
              "            + ' to learn more about interactive tables.';\n",
              "          element.innerHTML = '';\n",
              "          dataTable['output_type'] = 'display_data';\n",
              "          await google.colab.output.renderOutput(dataTable, element);\n",
              "          const docLink = document.createElement('div');\n",
              "          docLink.innerHTML = docLinkHtml;\n",
              "          element.appendChild(docLink);\n",
              "        }\n",
              "      </script>\n",
              "    </div>\n",
              "  </div>\n",
              "  "
            ]
          },
          "metadata": {},
          "execution_count": 245
        }
      ]
    },
    {
      "cell_type": "code",
      "source": [
        "#CHOOSING RANDOM FOREST CLasifier model as best model as it has a cv score of 0.856510160318595"
      ],
      "metadata": {
        "id": "9mWJPKxuGBwm"
      },
      "execution_count": null,
      "outputs": []
    },
    {
      "cell_type": "code",
      "source": [
        "select=pd.DataFrame([y_pred])\n",
        "select"
      ],
      "metadata": {
        "colab": {
          "base_uri": "https://localhost:8080/"
        },
        "id": "qWsfOFY95qkU",
        "outputId": "a8e1c4ed-93a9-410c-816d-6ecd9d95cf3c"
      },
      "execution_count": null,
      "outputs": [
        {
          "output_type": "execute_result",
          "data": {
            "text/plain": [
              "   0     1     2     3     4     5     6     7     8     9     ...  9320  \\\n",
              "0     1     0     1     0     0     0     1     1     0     0  ...     0   \n",
              "\n",
              "   9321  9322  9323  9324  9325  9326  9327  9328  9329  \n",
              "0     1     1     1     0     0     1     1     1     1  \n",
              "\n",
              "[1 rows x 9330 columns]"
            ],
            "text/html": [
              "\n",
              "  <div id=\"df-a63a7234-a151-4376-bf50-558b94af031e\">\n",
              "    <div class=\"colab-df-container\">\n",
              "      <div>\n",
              "<style scoped>\n",
              "    .dataframe tbody tr th:only-of-type {\n",
              "        vertical-align: middle;\n",
              "    }\n",
              "\n",
              "    .dataframe tbody tr th {\n",
              "        vertical-align: top;\n",
              "    }\n",
              "\n",
              "    .dataframe thead th {\n",
              "        text-align: right;\n",
              "    }\n",
              "</style>\n",
              "<table border=\"1\" class=\"dataframe\">\n",
              "  <thead>\n",
              "    <tr style=\"text-align: right;\">\n",
              "      <th></th>\n",
              "      <th>0</th>\n",
              "      <th>1</th>\n",
              "      <th>2</th>\n",
              "      <th>3</th>\n",
              "      <th>4</th>\n",
              "      <th>5</th>\n",
              "      <th>6</th>\n",
              "      <th>7</th>\n",
              "      <th>8</th>\n",
              "      <th>9</th>\n",
              "      <th>...</th>\n",
              "      <th>9320</th>\n",
              "      <th>9321</th>\n",
              "      <th>9322</th>\n",
              "      <th>9323</th>\n",
              "      <th>9324</th>\n",
              "      <th>9325</th>\n",
              "      <th>9326</th>\n",
              "      <th>9327</th>\n",
              "      <th>9328</th>\n",
              "      <th>9329</th>\n",
              "    </tr>\n",
              "  </thead>\n",
              "  <tbody>\n",
              "    <tr>\n",
              "      <th>0</th>\n",
              "      <td>1</td>\n",
              "      <td>0</td>\n",
              "      <td>1</td>\n",
              "      <td>0</td>\n",
              "      <td>0</td>\n",
              "      <td>0</td>\n",
              "      <td>1</td>\n",
              "      <td>1</td>\n",
              "      <td>0</td>\n",
              "      <td>0</td>\n",
              "      <td>...</td>\n",
              "      <td>0</td>\n",
              "      <td>1</td>\n",
              "      <td>1</td>\n",
              "      <td>1</td>\n",
              "      <td>0</td>\n",
              "      <td>0</td>\n",
              "      <td>1</td>\n",
              "      <td>1</td>\n",
              "      <td>1</td>\n",
              "      <td>1</td>\n",
              "    </tr>\n",
              "  </tbody>\n",
              "</table>\n",
              "<p>1 rows × 9330 columns</p>\n",
              "</div>\n",
              "      <button class=\"colab-df-convert\" onclick=\"convertToInteractive('df-a63a7234-a151-4376-bf50-558b94af031e')\"\n",
              "              title=\"Convert this dataframe to an interactive table.\"\n",
              "              style=\"display:none;\">\n",
              "        \n",
              "  <svg xmlns=\"http://www.w3.org/2000/svg\" height=\"24px\"viewBox=\"0 0 24 24\"\n",
              "       width=\"24px\">\n",
              "    <path d=\"M0 0h24v24H0V0z\" fill=\"none\"/>\n",
              "    <path d=\"M18.56 5.44l.94 2.06.94-2.06 2.06-.94-2.06-.94-.94-2.06-.94 2.06-2.06.94zm-11 1L8.5 8.5l.94-2.06 2.06-.94-2.06-.94L8.5 2.5l-.94 2.06-2.06.94zm10 10l.94 2.06.94-2.06 2.06-.94-2.06-.94-.94-2.06-.94 2.06-2.06.94z\"/><path d=\"M17.41 7.96l-1.37-1.37c-.4-.4-.92-.59-1.43-.59-.52 0-1.04.2-1.43.59L10.3 9.45l-7.72 7.72c-.78.78-.78 2.05 0 2.83L4 21.41c.39.39.9.59 1.41.59.51 0 1.02-.2 1.41-.59l7.78-7.78 2.81-2.81c.8-.78.8-2.07 0-2.86zM5.41 20L4 18.59l7.72-7.72 1.47 1.35L5.41 20z\"/>\n",
              "  </svg>\n",
              "      </button>\n",
              "      \n",
              "  <style>\n",
              "    .colab-df-container {\n",
              "      display:flex;\n",
              "      flex-wrap:wrap;\n",
              "      gap: 12px;\n",
              "    }\n",
              "\n",
              "    .colab-df-convert {\n",
              "      background-color: #E8F0FE;\n",
              "      border: none;\n",
              "      border-radius: 50%;\n",
              "      cursor: pointer;\n",
              "      display: none;\n",
              "      fill: #1967D2;\n",
              "      height: 32px;\n",
              "      padding: 0 0 0 0;\n",
              "      width: 32px;\n",
              "    }\n",
              "\n",
              "    .colab-df-convert:hover {\n",
              "      background-color: #E2EBFA;\n",
              "      box-shadow: 0px 1px 2px rgba(60, 64, 67, 0.3), 0px 1px 3px 1px rgba(60, 64, 67, 0.15);\n",
              "      fill: #174EA6;\n",
              "    }\n",
              "\n",
              "    [theme=dark] .colab-df-convert {\n",
              "      background-color: #3B4455;\n",
              "      fill: #D2E3FC;\n",
              "    }\n",
              "\n",
              "    [theme=dark] .colab-df-convert:hover {\n",
              "      background-color: #434B5C;\n",
              "      box-shadow: 0px 1px 3px 1px rgba(0, 0, 0, 0.15);\n",
              "      filter: drop-shadow(0px 1px 2px rgba(0, 0, 0, 0.3));\n",
              "      fill: #FFFFFF;\n",
              "    }\n",
              "  </style>\n",
              "\n",
              "      <script>\n",
              "        const buttonEl =\n",
              "          document.querySelector('#df-a63a7234-a151-4376-bf50-558b94af031e button.colab-df-convert');\n",
              "        buttonEl.style.display =\n",
              "          google.colab.kernel.accessAllowed ? 'block' : 'none';\n",
              "\n",
              "        async function convertToInteractive(key) {\n",
              "          const element = document.querySelector('#df-a63a7234-a151-4376-bf50-558b94af031e');\n",
              "          const dataTable =\n",
              "            await google.colab.kernel.invokeFunction('convertToInteractive',\n",
              "                                                     [key], {});\n",
              "          if (!dataTable) return;\n",
              "\n",
              "          const docLinkHtml = 'Like what you see? Visit the ' +\n",
              "            '<a target=\"_blank\" href=https://colab.research.google.com/notebooks/data_table.ipynb>data table notebook</a>'\n",
              "            + ' to learn more about interactive tables.';\n",
              "          element.innerHTML = '';\n",
              "          dataTable['output_type'] = 'display_data';\n",
              "          await google.colab.output.renderOutput(dataTable, element);\n",
              "          const docLink = document.createElement('div');\n",
              "          docLink.innerHTML = docLinkHtml;\n",
              "          element.appendChild(docLink);\n",
              "        }\n",
              "      </script>\n",
              "    </div>\n",
              "  </div>\n",
              "  "
            ]
          },
          "metadata": {},
          "execution_count": 324
        }
      ]
    },
    {
      "cell_type": "code",
      "source": [
        "test1['player_id']='PLID_'+test1['player_id'].astype(str)"
      ],
      "metadata": {
        "id": "u2yHMdlF7gDc"
      },
      "execution_count": null,
      "outputs": []
    },
    {
      "cell_type": "code",
      "source": [
        "player_id=np.array(test1['player_id'])"
      ],
      "metadata": {
        "id": "XkwOr4g_8gWA"
      },
      "execution_count": null,
      "outputs": []
    },
    {
      "cell_type": "code",
      "source": [
        "column_values = ['selection']"
      ],
      "metadata": {
        "id": "7u-pr9OL8whp"
      },
      "execution_count": null,
      "outputs": []
    },
    {
      "cell_type": "code",
      "source": [
        "\n",
        "df = pd.DataFrame(data = y_pred, \n",
        "                  index = player_id, \n",
        "                  columns = column_values)"
      ],
      "metadata": {
        "id": "L3K2siMu8DA9"
      },
      "execution_count": null,
      "outputs": []
    },
    {
      "cell_type": "code",
      "source": [
        "df.head()"
      ],
      "metadata": {
        "colab": {
          "base_uri": "https://localhost:8080/"
        },
        "id": "ZzJ8CJIA82sE",
        "outputId": "44d9caae-7340-44aa-e075-b48bb425fec3"
      },
      "execution_count": null,
      "outputs": [
        {
          "output_type": "execute_result",
          "data": {
            "text/plain": [
              "            selection\n",
              "PLID_14644          1\n",
              "PLID_5934           0\n",
              "PLID_5074           1\n",
              "PLID_17357          0\n",
              "PLID_13993          0"
            ],
            "text/html": [
              "\n",
              "  <div id=\"df-d4161795-e49d-4f22-9b44-047f64d3af1f\">\n",
              "    <div class=\"colab-df-container\">\n",
              "      <div>\n",
              "<style scoped>\n",
              "    .dataframe tbody tr th:only-of-type {\n",
              "        vertical-align: middle;\n",
              "    }\n",
              "\n",
              "    .dataframe tbody tr th {\n",
              "        vertical-align: top;\n",
              "    }\n",
              "\n",
              "    .dataframe thead th {\n",
              "        text-align: right;\n",
              "    }\n",
              "</style>\n",
              "<table border=\"1\" class=\"dataframe\">\n",
              "  <thead>\n",
              "    <tr style=\"text-align: right;\">\n",
              "      <th></th>\n",
              "      <th>selection</th>\n",
              "    </tr>\n",
              "  </thead>\n",
              "  <tbody>\n",
              "    <tr>\n",
              "      <th>PLID_14644</th>\n",
              "      <td>1</td>\n",
              "    </tr>\n",
              "    <tr>\n",
              "      <th>PLID_5934</th>\n",
              "      <td>0</td>\n",
              "    </tr>\n",
              "    <tr>\n",
              "      <th>PLID_5074</th>\n",
              "      <td>1</td>\n",
              "    </tr>\n",
              "    <tr>\n",
              "      <th>PLID_17357</th>\n",
              "      <td>0</td>\n",
              "    </tr>\n",
              "    <tr>\n",
              "      <th>PLID_13993</th>\n",
              "      <td>0</td>\n",
              "    </tr>\n",
              "  </tbody>\n",
              "</table>\n",
              "</div>\n",
              "      <button class=\"colab-df-convert\" onclick=\"convertToInteractive('df-d4161795-e49d-4f22-9b44-047f64d3af1f')\"\n",
              "              title=\"Convert this dataframe to an interactive table.\"\n",
              "              style=\"display:none;\">\n",
              "        \n",
              "  <svg xmlns=\"http://www.w3.org/2000/svg\" height=\"24px\"viewBox=\"0 0 24 24\"\n",
              "       width=\"24px\">\n",
              "    <path d=\"M0 0h24v24H0V0z\" fill=\"none\"/>\n",
              "    <path d=\"M18.56 5.44l.94 2.06.94-2.06 2.06-.94-2.06-.94-.94-2.06-.94 2.06-2.06.94zm-11 1L8.5 8.5l.94-2.06 2.06-.94-2.06-.94L8.5 2.5l-.94 2.06-2.06.94zm10 10l.94 2.06.94-2.06 2.06-.94-2.06-.94-.94-2.06-.94 2.06-2.06.94z\"/><path d=\"M17.41 7.96l-1.37-1.37c-.4-.4-.92-.59-1.43-.59-.52 0-1.04.2-1.43.59L10.3 9.45l-7.72 7.72c-.78.78-.78 2.05 0 2.83L4 21.41c.39.39.9.59 1.41.59.51 0 1.02-.2 1.41-.59l7.78-7.78 2.81-2.81c.8-.78.8-2.07 0-2.86zM5.41 20L4 18.59l7.72-7.72 1.47 1.35L5.41 20z\"/>\n",
              "  </svg>\n",
              "      </button>\n",
              "      \n",
              "  <style>\n",
              "    .colab-df-container {\n",
              "      display:flex;\n",
              "      flex-wrap:wrap;\n",
              "      gap: 12px;\n",
              "    }\n",
              "\n",
              "    .colab-df-convert {\n",
              "      background-color: #E8F0FE;\n",
              "      border: none;\n",
              "      border-radius: 50%;\n",
              "      cursor: pointer;\n",
              "      display: none;\n",
              "      fill: #1967D2;\n",
              "      height: 32px;\n",
              "      padding: 0 0 0 0;\n",
              "      width: 32px;\n",
              "    }\n",
              "\n",
              "    .colab-df-convert:hover {\n",
              "      background-color: #E2EBFA;\n",
              "      box-shadow: 0px 1px 2px rgba(60, 64, 67, 0.3), 0px 1px 3px 1px rgba(60, 64, 67, 0.15);\n",
              "      fill: #174EA6;\n",
              "    }\n",
              "\n",
              "    [theme=dark] .colab-df-convert {\n",
              "      background-color: #3B4455;\n",
              "      fill: #D2E3FC;\n",
              "    }\n",
              "\n",
              "    [theme=dark] .colab-df-convert:hover {\n",
              "      background-color: #434B5C;\n",
              "      box-shadow: 0px 1px 3px 1px rgba(0, 0, 0, 0.15);\n",
              "      filter: drop-shadow(0px 1px 2px rgba(0, 0, 0, 0.3));\n",
              "      fill: #FFFFFF;\n",
              "    }\n",
              "  </style>\n",
              "\n",
              "      <script>\n",
              "        const buttonEl =\n",
              "          document.querySelector('#df-d4161795-e49d-4f22-9b44-047f64d3af1f button.colab-df-convert');\n",
              "        buttonEl.style.display =\n",
              "          google.colab.kernel.accessAllowed ? 'block' : 'none';\n",
              "\n",
              "        async function convertToInteractive(key) {\n",
              "          const element = document.querySelector('#df-d4161795-e49d-4f22-9b44-047f64d3af1f');\n",
              "          const dataTable =\n",
              "            await google.colab.kernel.invokeFunction('convertToInteractive',\n",
              "                                                     [key], {});\n",
              "          if (!dataTable) return;\n",
              "\n",
              "          const docLinkHtml = 'Like what you see? Visit the ' +\n",
              "            '<a target=\"_blank\" href=https://colab.research.google.com/notebooks/data_table.ipynb>data table notebook</a>'\n",
              "            + ' to learn more about interactive tables.';\n",
              "          element.innerHTML = '';\n",
              "          dataTable['output_type'] = 'display_data';\n",
              "          await google.colab.output.renderOutput(dataTable, element);\n",
              "          const docLink = document.createElement('div');\n",
              "          docLink.innerHTML = docLinkHtml;\n",
              "          element.appendChild(docLink);\n",
              "        }\n",
              "      </script>\n",
              "    </div>\n",
              "  </div>\n",
              "  "
            ]
          },
          "metadata": {},
          "execution_count": 329
        }
      ]
    },
    {
      "cell_type": "code",
      "source": [
        "df.index.name = 'player_id'"
      ],
      "metadata": {
        "id": "t3hFcPmi_dX-"
      },
      "execution_count": null,
      "outputs": []
    },
    {
      "cell_type": "code",
      "source": [
        "df.shape"
      ],
      "metadata": {
        "colab": {
          "base_uri": "https://localhost:8080/"
        },
        "id": "oFNyzvsX83rj",
        "outputId": "df5265ab-97ff-49ef-dd01-5e06bf6f9682"
      },
      "execution_count": null,
      "outputs": [
        {
          "output_type": "execute_result",
          "data": {
            "text/plain": [
              "(9330, 1)"
            ]
          },
          "metadata": {},
          "execution_count": 331
        }
      ]
    },
    {
      "cell_type": "code",
      "source": [
        "df.head()"
      ],
      "metadata": {
        "colab": {
          "base_uri": "https://localhost:8080/"
        },
        "id": "2P4Q5zNr_iaB",
        "outputId": "43d2f972-f039-4eae-be9a-37822e8247f4"
      },
      "execution_count": null,
      "outputs": [
        {
          "output_type": "execute_result",
          "data": {
            "text/plain": [
              "            selection\n",
              "player_id            \n",
              "PLID_14644          1\n",
              "PLID_5934           0\n",
              "PLID_5074           1\n",
              "PLID_17357          0\n",
              "PLID_13993          0"
            ],
            "text/html": [
              "\n",
              "  <div id=\"df-98927d74-9e7e-4c1e-9451-8f4b9ebcde01\">\n",
              "    <div class=\"colab-df-container\">\n",
              "      <div>\n",
              "<style scoped>\n",
              "    .dataframe tbody tr th:only-of-type {\n",
              "        vertical-align: middle;\n",
              "    }\n",
              "\n",
              "    .dataframe tbody tr th {\n",
              "        vertical-align: top;\n",
              "    }\n",
              "\n",
              "    .dataframe thead th {\n",
              "        text-align: right;\n",
              "    }\n",
              "</style>\n",
              "<table border=\"1\" class=\"dataframe\">\n",
              "  <thead>\n",
              "    <tr style=\"text-align: right;\">\n",
              "      <th></th>\n",
              "      <th>selection</th>\n",
              "    </tr>\n",
              "    <tr>\n",
              "      <th>player_id</th>\n",
              "      <th></th>\n",
              "    </tr>\n",
              "  </thead>\n",
              "  <tbody>\n",
              "    <tr>\n",
              "      <th>PLID_14644</th>\n",
              "      <td>1</td>\n",
              "    </tr>\n",
              "    <tr>\n",
              "      <th>PLID_5934</th>\n",
              "      <td>0</td>\n",
              "    </tr>\n",
              "    <tr>\n",
              "      <th>PLID_5074</th>\n",
              "      <td>1</td>\n",
              "    </tr>\n",
              "    <tr>\n",
              "      <th>PLID_17357</th>\n",
              "      <td>0</td>\n",
              "    </tr>\n",
              "    <tr>\n",
              "      <th>PLID_13993</th>\n",
              "      <td>0</td>\n",
              "    </tr>\n",
              "  </tbody>\n",
              "</table>\n",
              "</div>\n",
              "      <button class=\"colab-df-convert\" onclick=\"convertToInteractive('df-98927d74-9e7e-4c1e-9451-8f4b9ebcde01')\"\n",
              "              title=\"Convert this dataframe to an interactive table.\"\n",
              "              style=\"display:none;\">\n",
              "        \n",
              "  <svg xmlns=\"http://www.w3.org/2000/svg\" height=\"24px\"viewBox=\"0 0 24 24\"\n",
              "       width=\"24px\">\n",
              "    <path d=\"M0 0h24v24H0V0z\" fill=\"none\"/>\n",
              "    <path d=\"M18.56 5.44l.94 2.06.94-2.06 2.06-.94-2.06-.94-.94-2.06-.94 2.06-2.06.94zm-11 1L8.5 8.5l.94-2.06 2.06-.94-2.06-.94L8.5 2.5l-.94 2.06-2.06.94zm10 10l.94 2.06.94-2.06 2.06-.94-2.06-.94-.94-2.06-.94 2.06-2.06.94z\"/><path d=\"M17.41 7.96l-1.37-1.37c-.4-.4-.92-.59-1.43-.59-.52 0-1.04.2-1.43.59L10.3 9.45l-7.72 7.72c-.78.78-.78 2.05 0 2.83L4 21.41c.39.39.9.59 1.41.59.51 0 1.02-.2 1.41-.59l7.78-7.78 2.81-2.81c.8-.78.8-2.07 0-2.86zM5.41 20L4 18.59l7.72-7.72 1.47 1.35L5.41 20z\"/>\n",
              "  </svg>\n",
              "      </button>\n",
              "      \n",
              "  <style>\n",
              "    .colab-df-container {\n",
              "      display:flex;\n",
              "      flex-wrap:wrap;\n",
              "      gap: 12px;\n",
              "    }\n",
              "\n",
              "    .colab-df-convert {\n",
              "      background-color: #E8F0FE;\n",
              "      border: none;\n",
              "      border-radius: 50%;\n",
              "      cursor: pointer;\n",
              "      display: none;\n",
              "      fill: #1967D2;\n",
              "      height: 32px;\n",
              "      padding: 0 0 0 0;\n",
              "      width: 32px;\n",
              "    }\n",
              "\n",
              "    .colab-df-convert:hover {\n",
              "      background-color: #E2EBFA;\n",
              "      box-shadow: 0px 1px 2px rgba(60, 64, 67, 0.3), 0px 1px 3px 1px rgba(60, 64, 67, 0.15);\n",
              "      fill: #174EA6;\n",
              "    }\n",
              "\n",
              "    [theme=dark] .colab-df-convert {\n",
              "      background-color: #3B4455;\n",
              "      fill: #D2E3FC;\n",
              "    }\n",
              "\n",
              "    [theme=dark] .colab-df-convert:hover {\n",
              "      background-color: #434B5C;\n",
              "      box-shadow: 0px 1px 3px 1px rgba(0, 0, 0, 0.15);\n",
              "      filter: drop-shadow(0px 1px 2px rgba(0, 0, 0, 0.3));\n",
              "      fill: #FFFFFF;\n",
              "    }\n",
              "  </style>\n",
              "\n",
              "      <script>\n",
              "        const buttonEl =\n",
              "          document.querySelector('#df-98927d74-9e7e-4c1e-9451-8f4b9ebcde01 button.colab-df-convert');\n",
              "        buttonEl.style.display =\n",
              "          google.colab.kernel.accessAllowed ? 'block' : 'none';\n",
              "\n",
              "        async function convertToInteractive(key) {\n",
              "          const element = document.querySelector('#df-98927d74-9e7e-4c1e-9451-8f4b9ebcde01');\n",
              "          const dataTable =\n",
              "            await google.colab.kernel.invokeFunction('convertToInteractive',\n",
              "                                                     [key], {});\n",
              "          if (!dataTable) return;\n",
              "\n",
              "          const docLinkHtml = 'Like what you see? Visit the ' +\n",
              "            '<a target=\"_blank\" href=https://colab.research.google.com/notebooks/data_table.ipynb>data table notebook</a>'\n",
              "            + ' to learn more about interactive tables.';\n",
              "          element.innerHTML = '';\n",
              "          dataTable['output_type'] = 'display_data';\n",
              "          await google.colab.output.renderOutput(dataTable, element);\n",
              "          const docLink = document.createElement('div');\n",
              "          docLink.innerHTML = docLinkHtml;\n",
              "          element.appendChild(docLink);\n",
              "        }\n",
              "      </script>\n",
              "    </div>\n",
              "  </div>\n",
              "  "
            ]
          },
          "metadata": {},
          "execution_count": 332
        }
      ]
    },
    {
      "cell_type": "code",
      "source": [
        "#Saving submission file\n",
        "df.to_csv(r'C:\\Users\\exittest_subfinal2.csv')"
      ],
      "metadata": {
        "id": "LSK25-wF858A"
      },
      "execution_count": null,
      "outputs": []
    }
  ]
}